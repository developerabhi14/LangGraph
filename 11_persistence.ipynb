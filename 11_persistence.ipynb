{
 "cells": [
  {
   "cell_type": "code",
   "execution_count": 4,
   "id": "31f30476",
   "metadata": {},
   "outputs": [],
   "source": [
    "from langgraph.graph import START, StateGraph, END\n",
    "from typing import TypedDict\n",
    "from langchain_google_genai import ChatGoogleGenerativeAI\n",
    "from dotenv import load_dotenv\n",
    "from langgraph.checkpoint.memory import InMemorySaver"
   ]
  },
  {
   "cell_type": "code",
   "execution_count": 5,
   "id": "c66c05e9",
   "metadata": {},
   "outputs": [],
   "source": [
    "load_dotenv()\n",
    "llm=ChatGoogleGenerativeAI(model='gemini-2.5-flash')"
   ]
  },
  {
   "cell_type": "code",
   "execution_count": 6,
   "id": "29409718",
   "metadata": {},
   "outputs": [],
   "source": [
    "class JokeState(TypedDict):\n",
    "    topic: str\n",
    "    joke: str\n",
    "    explaination: str"
   ]
  },
  {
   "cell_type": "code",
   "execution_count": 7,
   "id": "c75f41dc",
   "metadata": {},
   "outputs": [],
   "source": [
    "def generate_joke(state: JokeState):\n",
    "    prompt=f\"generate a single joke on the topic {state['topic']}\"\n",
    "    response=llm.invoke(prompt).content\n",
    "    return {'joke': response}\n",
    "\n",
    "\n",
    "def generate_explaination(state: JokeState):\n",
    "    prompt=f\"Write an explaination for the joke - {state['joke']}\"\n",
    "    response=llm.invoke(prompt).content\n",
    "    return {'explaination': response}"
   ]
  },
  {
   "cell_type": "code",
   "execution_count": 8,
   "id": "2a99703e",
   "metadata": {},
   "outputs": [],
   "source": [
    "graph=StateGraph(JokeState)\n",
    "graph.add_node('generate_joke', generate_joke)\n",
    "graph.add_node('generate_explaination', generate_explaination)\n",
    "\n",
    "graph.add_edge(START, 'generate_joke')\n",
    "graph.add_edge('generate_joke', 'generate_explaination')\n",
    "graph.add_edge('generate_explaination',END)\n",
    "\n",
    "checkpointer=InMemorySaver()\n",
    "workflow=graph.compile(checkpointer=checkpointer)"
   ]
  },
  {
   "cell_type": "code",
   "execution_count": 9,
   "id": "32d1c837",
   "metadata": {},
   "outputs": [
    {
     "data": {
      "text/plain": [
       "{'topic': 'pizza',\n",
       " 'joke': \"Why did the pizza maker break up with the dough?\\n\\nHe just couldn't *knead* her anymore.\",\n",
       " 'explaination': 'This is a classic pun! Here\\'s the breakdown:\\n\\n1.  **The Setup:** We have a \"pizza maker\" and \"dough.\" The core activity a pizza maker does with dough is *kneading* it (working it with their hands to develop the gluten). The idea of them \"breaking up\" suggests a relationship ending.\\n\\n2.  **The Pun Word:** The word \"knead\" (pronounced \"need\") is the key.\\n\\n    *   **Meaning 1 (Literal, pizza-making):** In the context of a pizza maker and dough, \"knead\" refers to the physical act of pressing and folding the dough. If he \"couldn\\'t knead her anymore,\" it could literally mean he was unable or unwilling to perform that necessary step for the dough.\\n\\n    *   **Meaning 2 (Homophone, relationship):** \"Knead\" sounds exactly like the word \"need.\" In the context of a relationship, if someone \"couldn\\'t *need* her anymore,\" it means they no longer required her presence, affection, or simply didn\\'t want her in their life – a very common reason for a breakup.\\n\\n**The Joke:** The humor comes from the clever play on words, combining the literal action of a pizza maker (kneading dough) with the metaphorical reason for a breakup (not needing someone) using a single word that sounds the same but has two different meanings.'}"
      ]
     },
     "execution_count": 9,
     "metadata": {},
     "output_type": "execute_result"
    }
   ],
   "source": [
    "config1={\"configurable\":{'thread_id':1}}\n",
    "workflow.invoke({'topic':'pizza'}, config=config1)"
   ]
  },
  {
   "cell_type": "code",
   "execution_count": 10,
   "id": "3bf3a394",
   "metadata": {},
   "outputs": [
    {
     "data": {
      "text/plain": [
       "StateSnapshot(values={'topic': 'pizza', 'joke': \"Why did the pizza maker break up with the dough?\\n\\nHe just couldn't *knead* her anymore.\", 'explaination': 'This is a classic pun! Here\\'s the breakdown:\\n\\n1.  **The Setup:** We have a \"pizza maker\" and \"dough.\" The core activity a pizza maker does with dough is *kneading* it (working it with their hands to develop the gluten). The idea of them \"breaking up\" suggests a relationship ending.\\n\\n2.  **The Pun Word:** The word \"knead\" (pronounced \"need\") is the key.\\n\\n    *   **Meaning 1 (Literal, pizza-making):** In the context of a pizza maker and dough, \"knead\" refers to the physical act of pressing and folding the dough. If he \"couldn\\'t knead her anymore,\" it could literally mean he was unable or unwilling to perform that necessary step for the dough.\\n\\n    *   **Meaning 2 (Homophone, relationship):** \"Knead\" sounds exactly like the word \"need.\" In the context of a relationship, if someone \"couldn\\'t *need* her anymore,\" it means they no longer required her presence, affection, or simply didn\\'t want her in their life – a very common reason for a breakup.\\n\\n**The Joke:** The humor comes from the clever play on words, combining the literal action of a pizza maker (kneading dough) with the metaphorical reason for a breakup (not needing someone) using a single word that sounds the same but has two different meanings.'}, next=(), config={'configurable': {'thread_id': '1', 'checkpoint_ns': '', 'checkpoint_id': '1f08ace6-fa98-617e-8002-5ac23b305611'}}, metadata={'source': 'loop', 'step': 2, 'parents': {}}, created_at='2025-09-06T03:06:08.976086+00:00', parent_config={'configurable': {'thread_id': '1', 'checkpoint_ns': '', 'checkpoint_id': '1f08ace6-b9f0-616e-8001-4f710c4b1a89'}}, tasks=(), interrupts=())"
      ]
     },
     "execution_count": 10,
     "metadata": {},
     "output_type": "execute_result"
    }
   ],
   "source": [
    "workflow.get_state(config1)"
   ]
  },
  {
   "cell_type": "code",
   "execution_count": 11,
   "id": "62910485",
   "metadata": {},
   "outputs": [
    {
     "data": {
      "text/plain": [
       "[StateSnapshot(values={'topic': 'pizza', 'joke': \"Why did the pizza maker break up with the dough?\\n\\nHe just couldn't *knead* her anymore.\", 'explaination': 'This is a classic pun! Here\\'s the breakdown:\\n\\n1.  **The Setup:** We have a \"pizza maker\" and \"dough.\" The core activity a pizza maker does with dough is *kneading* it (working it with their hands to develop the gluten). The idea of them \"breaking up\" suggests a relationship ending.\\n\\n2.  **The Pun Word:** The word \"knead\" (pronounced \"need\") is the key.\\n\\n    *   **Meaning 1 (Literal, pizza-making):** In the context of a pizza maker and dough, \"knead\" refers to the physical act of pressing and folding the dough. If he \"couldn\\'t knead her anymore,\" it could literally mean he was unable or unwilling to perform that necessary step for the dough.\\n\\n    *   **Meaning 2 (Homophone, relationship):** \"Knead\" sounds exactly like the word \"need.\" In the context of a relationship, if someone \"couldn\\'t *need* her anymore,\" it means they no longer required her presence, affection, or simply didn\\'t want her in their life – a very common reason for a breakup.\\n\\n**The Joke:** The humor comes from the clever play on words, combining the literal action of a pizza maker (kneading dough) with the metaphorical reason for a breakup (not needing someone) using a single word that sounds the same but has two different meanings.'}, next=(), config={'configurable': {'thread_id': '1', 'checkpoint_ns': '', 'checkpoint_id': '1f08ace6-fa98-617e-8002-5ac23b305611'}}, metadata={'source': 'loop', 'step': 2, 'parents': {}}, created_at='2025-09-06T03:06:08.976086+00:00', parent_config={'configurable': {'thread_id': '1', 'checkpoint_ns': '', 'checkpoint_id': '1f08ace6-b9f0-616e-8001-4f710c4b1a89'}}, tasks=(), interrupts=()),\n",
       " StateSnapshot(values={'topic': 'pizza', 'joke': \"Why did the pizza maker break up with the dough?\\n\\nHe just couldn't *knead* her anymore.\"}, next=('generate_explaination',), config={'configurable': {'thread_id': '1', 'checkpoint_ns': '', 'checkpoint_id': '1f08ace6-b9f0-616e-8001-4f710c4b1a89'}}, metadata={'source': 'loop', 'step': 1, 'parents': {}}, created_at='2025-09-06T03:06:02.196379+00:00', parent_config={'configurable': {'thread_id': '1', 'checkpoint_ns': '', 'checkpoint_id': '1f08ace6-5f95-62ad-8000-e512dacb2d18'}}, tasks=(PregelTask(id='69adacc9-a886-ad73-3c0f-0c2823a12f84', name='generate_explaination', path=('__pregel_pull', 'generate_explaination'), error=None, interrupts=(), state=None, result={'explaination': 'This is a classic pun! Here\\'s the breakdown:\\n\\n1.  **The Setup:** We have a \"pizza maker\" and \"dough.\" The core activity a pizza maker does with dough is *kneading* it (working it with their hands to develop the gluten). The idea of them \"breaking up\" suggests a relationship ending.\\n\\n2.  **The Pun Word:** The word \"knead\" (pronounced \"need\") is the key.\\n\\n    *   **Meaning 1 (Literal, pizza-making):** In the context of a pizza maker and dough, \"knead\" refers to the physical act of pressing and folding the dough. If he \"couldn\\'t knead her anymore,\" it could literally mean he was unable or unwilling to perform that necessary step for the dough.\\n\\n    *   **Meaning 2 (Homophone, relationship):** \"Knead\" sounds exactly like the word \"need.\" In the context of a relationship, if someone \"couldn\\'t *need* her anymore,\" it means they no longer required her presence, affection, or simply didn\\'t want her in their life – a very common reason for a breakup.\\n\\n**The Joke:** The humor comes from the clever play on words, combining the literal action of a pizza maker (kneading dough) with the metaphorical reason for a breakup (not needing someone) using a single word that sounds the same but has two different meanings.'}),), interrupts=()),\n",
       " StateSnapshot(values={'topic': 'pizza'}, next=('generate_joke',), config={'configurable': {'thread_id': '1', 'checkpoint_ns': '', 'checkpoint_id': '1f08ace6-5f95-62ad-8000-e512dacb2d18'}}, metadata={'source': 'loop', 'step': 0, 'parents': {}}, created_at='2025-09-06T03:05:52.721976+00:00', parent_config={'configurable': {'thread_id': '1', 'checkpoint_ns': '', 'checkpoint_id': '1f08ace6-5f93-6142-bfff-8f267d71638b'}}, tasks=(PregelTask(id='8475a8e6-0073-44a2-3b99-14c229b847dc', name='generate_joke', path=('__pregel_pull', 'generate_joke'), error=None, interrupts=(), state=None, result={'joke': \"Why did the pizza maker break up with the dough?\\n\\nHe just couldn't *knead* her anymore.\"}),), interrupts=()),\n",
       " StateSnapshot(values={}, next=('__start__',), config={'configurable': {'thread_id': '1', 'checkpoint_ns': '', 'checkpoint_id': '1f08ace6-5f93-6142-bfff-8f267d71638b'}}, metadata={'source': 'input', 'step': -1, 'parents': {}}, created_at='2025-09-06T03:05:52.721121+00:00', parent_config=None, tasks=(PregelTask(id='6942ee57-24af-f481-425f-8f7011c0cd58', name='__start__', path=('__pregel_pull', '__start__'), error=None, interrupts=(), state=None, result={'topic': 'pizza'}),), interrupts=())]"
      ]
     },
     "execution_count": 11,
     "metadata": {},
     "output_type": "execute_result"
    }
   ],
   "source": [
    "list(workflow.get_state_history(config1))"
   ]
  },
  {
   "cell_type": "code",
   "execution_count": 12,
   "id": "abd9426e",
   "metadata": {},
   "outputs": [
    {
     "data": {
      "text/plain": [
       "{'topic': 'pasta',\n",
       " 'joke': 'What do you call a fake noodle?\\nAn impasta!',\n",
       " 'explaination': 'This is a classic pun! The humor comes from the way the word \"impasta\" plays on two different, but related, ideas:\\n\\n1.  **\"Impostor\":** The word \"impasta\" sounds almost exactly like **\"impostor.\"** An impostor is someone who pretends to be someone else in order to deceive, essentially a **fake**. Since the joke asks about a \"fake noodle,\" the idea of an \"impostor\" fits perfectly.\\n\\n2.  **\"Pasta\":** \"Impasta\" obviously contains the word **\"pasta.\"** Noodles are a type of pasta (or at least very closely related, often used interchangeably in casual conversation). So, the \"pasta\" part directly relates to the \"noodle\" in the question.\\n\\nThe joke combines these two elements: the idea of something being **\"fake\"** (like an impostor) with the food item itself (**\"pasta\"**/noodle). The unexpected twist of combining \"impostor\" with \"pasta\" into a single, clever word is what makes the joke amusing.'}"
      ]
     },
     "execution_count": 12,
     "metadata": {},
     "output_type": "execute_result"
    }
   ],
   "source": [
    "config2={\"configurable\":{'thread_id':2}}\n",
    "workflow.invoke({'topic':'pasta'}, config=config2)"
   ]
  },
  {
   "cell_type": "code",
   "execution_count": 13,
   "id": "ed49bf50",
   "metadata": {},
   "outputs": [
    {
     "data": {
      "text/plain": [
       "StateSnapshot(values={'topic': 'pizza', 'joke': \"Why did the pizza maker break up with the dough?\\n\\nHe just couldn't *knead* her anymore.\", 'explaination': 'This is a classic pun! Here\\'s the breakdown:\\n\\n1.  **The Setup:** We have a \"pizza maker\" and \"dough.\" The core activity a pizza maker does with dough is *kneading* it (working it with their hands to develop the gluten). The idea of them \"breaking up\" suggests a relationship ending.\\n\\n2.  **The Pun Word:** The word \"knead\" (pronounced \"need\") is the key.\\n\\n    *   **Meaning 1 (Literal, pizza-making):** In the context of a pizza maker and dough, \"knead\" refers to the physical act of pressing and folding the dough. If he \"couldn\\'t knead her anymore,\" it could literally mean he was unable or unwilling to perform that necessary step for the dough.\\n\\n    *   **Meaning 2 (Homophone, relationship):** \"Knead\" sounds exactly like the word \"need.\" In the context of a relationship, if someone \"couldn\\'t *need* her anymore,\" it means they no longer required her presence, affection, or simply didn\\'t want her in their life – a very common reason for a breakup.\\n\\n**The Joke:** The humor comes from the clever play on words, combining the literal action of a pizza maker (kneading dough) with the metaphorical reason for a breakup (not needing someone) using a single word that sounds the same but has two different meanings.'}, next=(), config={'configurable': {'thread_id': '1', 'checkpoint_ns': '', 'checkpoint_id': '1f08ace6-fa98-617e-8002-5ac23b305611'}}, metadata={'source': 'loop', 'step': 2, 'parents': {}}, created_at='2025-09-06T03:06:08.976086+00:00', parent_config={'configurable': {'thread_id': '1', 'checkpoint_ns': '', 'checkpoint_id': '1f08ace6-b9f0-616e-8001-4f710c4b1a89'}}, tasks=(), interrupts=())"
      ]
     },
     "execution_count": 13,
     "metadata": {},
     "output_type": "execute_result"
    }
   ],
   "source": [
    "workflow.get_state(config1)"
   ]
  },
  {
   "cell_type": "code",
   "execution_count": 14,
   "id": "a4c39085",
   "metadata": {},
   "outputs": [
    {
     "data": {
      "text/plain": [
       "StateSnapshot(values={'topic': 'pasta', 'joke': 'What do you call a fake noodle?\\nAn impasta!', 'explaination': 'This is a classic pun! The humor comes from the way the word \"impasta\" plays on two different, but related, ideas:\\n\\n1.  **\"Impostor\":** The word \"impasta\" sounds almost exactly like **\"impostor.\"** An impostor is someone who pretends to be someone else in order to deceive, essentially a **fake**. Since the joke asks about a \"fake noodle,\" the idea of an \"impostor\" fits perfectly.\\n\\n2.  **\"Pasta\":** \"Impasta\" obviously contains the word **\"pasta.\"** Noodles are a type of pasta (or at least very closely related, often used interchangeably in casual conversation). So, the \"pasta\" part directly relates to the \"noodle\" in the question.\\n\\nThe joke combines these two elements: the idea of something being **\"fake\"** (like an impostor) with the food item itself (**\"pasta\"**/noodle). The unexpected twist of combining \"impostor\" with \"pasta\" into a single, clever word is what makes the joke amusing.'}, next=(), config={'configurable': {'thread_id': '2', 'checkpoint_ns': '', 'checkpoint_id': '1f08ace7-740e-6ea1-8002-b0bafd6482b0'}}, metadata={'source': 'loop', 'step': 2, 'parents': {}}, created_at='2025-09-06T03:06:21.712513+00:00', parent_config={'configurable': {'thread_id': '2', 'checkpoint_ns': '', 'checkpoint_id': '1f08ace7-3685-6d14-8001-c480cfef9928'}}, tasks=(), interrupts=())"
      ]
     },
     "execution_count": 14,
     "metadata": {},
     "output_type": "execute_result"
    }
   ],
   "source": [
    "workflow.get_state(config2)"
   ]
  },
  {
   "cell_type": "code",
   "execution_count": 15,
   "id": "3875883b",
   "metadata": {},
   "outputs": [
    {
     "data": {
      "text/plain": [
       "[StateSnapshot(values={'topic': 'pizza', 'joke': \"Why did the pizza maker break up with the dough?\\n\\nHe just couldn't *knead* her anymore.\", 'explaination': 'This is a classic pun! Here\\'s the breakdown:\\n\\n1.  **The Setup:** We have a \"pizza maker\" and \"dough.\" The core activity a pizza maker does with dough is *kneading* it (working it with their hands to develop the gluten). The idea of them \"breaking up\" suggests a relationship ending.\\n\\n2.  **The Pun Word:** The word \"knead\" (pronounced \"need\") is the key.\\n\\n    *   **Meaning 1 (Literal, pizza-making):** In the context of a pizza maker and dough, \"knead\" refers to the physical act of pressing and folding the dough. If he \"couldn\\'t knead her anymore,\" it could literally mean he was unable or unwilling to perform that necessary step for the dough.\\n\\n    *   **Meaning 2 (Homophone, relationship):** \"Knead\" sounds exactly like the word \"need.\" In the context of a relationship, if someone \"couldn\\'t *need* her anymore,\" it means they no longer required her presence, affection, or simply didn\\'t want her in their life – a very common reason for a breakup.\\n\\n**The Joke:** The humor comes from the clever play on words, combining the literal action of a pizza maker (kneading dough) with the metaphorical reason for a breakup (not needing someone) using a single word that sounds the same but has two different meanings.'}, next=(), config={'configurable': {'thread_id': '1', 'checkpoint_ns': '', 'checkpoint_id': '1f08ace6-fa98-617e-8002-5ac23b305611'}}, metadata={'source': 'loop', 'step': 2, 'parents': {}}, created_at='2025-09-06T03:06:08.976086+00:00', parent_config={'configurable': {'thread_id': '1', 'checkpoint_ns': '', 'checkpoint_id': '1f08ace6-b9f0-616e-8001-4f710c4b1a89'}}, tasks=(), interrupts=()),\n",
       " StateSnapshot(values={'topic': 'pizza', 'joke': \"Why did the pizza maker break up with the dough?\\n\\nHe just couldn't *knead* her anymore.\"}, next=('generate_explaination',), config={'configurable': {'thread_id': '1', 'checkpoint_ns': '', 'checkpoint_id': '1f08ace6-b9f0-616e-8001-4f710c4b1a89'}}, metadata={'source': 'loop', 'step': 1, 'parents': {}}, created_at='2025-09-06T03:06:02.196379+00:00', parent_config={'configurable': {'thread_id': '1', 'checkpoint_ns': '', 'checkpoint_id': '1f08ace6-5f95-62ad-8000-e512dacb2d18'}}, tasks=(PregelTask(id='69adacc9-a886-ad73-3c0f-0c2823a12f84', name='generate_explaination', path=('__pregel_pull', 'generate_explaination'), error=None, interrupts=(), state=None, result={'explaination': 'This is a classic pun! Here\\'s the breakdown:\\n\\n1.  **The Setup:** We have a \"pizza maker\" and \"dough.\" The core activity a pizza maker does with dough is *kneading* it (working it with their hands to develop the gluten). The idea of them \"breaking up\" suggests a relationship ending.\\n\\n2.  **The Pun Word:** The word \"knead\" (pronounced \"need\") is the key.\\n\\n    *   **Meaning 1 (Literal, pizza-making):** In the context of a pizza maker and dough, \"knead\" refers to the physical act of pressing and folding the dough. If he \"couldn\\'t knead her anymore,\" it could literally mean he was unable or unwilling to perform that necessary step for the dough.\\n\\n    *   **Meaning 2 (Homophone, relationship):** \"Knead\" sounds exactly like the word \"need.\" In the context of a relationship, if someone \"couldn\\'t *need* her anymore,\" it means they no longer required her presence, affection, or simply didn\\'t want her in their life – a very common reason for a breakup.\\n\\n**The Joke:** The humor comes from the clever play on words, combining the literal action of a pizza maker (kneading dough) with the metaphorical reason for a breakup (not needing someone) using a single word that sounds the same but has two different meanings.'}),), interrupts=()),\n",
       " StateSnapshot(values={'topic': 'pizza'}, next=('generate_joke',), config={'configurable': {'thread_id': '1', 'checkpoint_ns': '', 'checkpoint_id': '1f08ace6-5f95-62ad-8000-e512dacb2d18'}}, metadata={'source': 'loop', 'step': 0, 'parents': {}}, created_at='2025-09-06T03:05:52.721976+00:00', parent_config={'configurable': {'thread_id': '1', 'checkpoint_ns': '', 'checkpoint_id': '1f08ace6-5f93-6142-bfff-8f267d71638b'}}, tasks=(PregelTask(id='8475a8e6-0073-44a2-3b99-14c229b847dc', name='generate_joke', path=('__pregel_pull', 'generate_joke'), error=None, interrupts=(), state=None, result={'joke': \"Why did the pizza maker break up with the dough?\\n\\nHe just couldn't *knead* her anymore.\"}),), interrupts=()),\n",
       " StateSnapshot(values={}, next=('__start__',), config={'configurable': {'thread_id': '1', 'checkpoint_ns': '', 'checkpoint_id': '1f08ace6-5f93-6142-bfff-8f267d71638b'}}, metadata={'source': 'input', 'step': -1, 'parents': {}}, created_at='2025-09-06T03:05:52.721121+00:00', parent_config=None, tasks=(PregelTask(id='6942ee57-24af-f481-425f-8f7011c0cd58', name='__start__', path=('__pregel_pull', '__start__'), error=None, interrupts=(), state=None, result={'topic': 'pizza'}),), interrupts=())]"
      ]
     },
     "execution_count": 15,
     "metadata": {},
     "output_type": "execute_result"
    }
   ],
   "source": [
    "list(workflow.get_state_history(config1))"
   ]
  },
  {
   "cell_type": "markdown",
   "id": "76e127e4",
   "metadata": {},
   "source": [
    "# Time Travel"
   ]
  },
  {
   "cell_type": "code",
   "execution_count": 16,
   "id": "8223d38b",
   "metadata": {},
   "outputs": [
    {
     "data": {
      "text/plain": [
       "StateSnapshot(values={}, next=(), config={'configurable': {'thread_id': '1', 'checkpoint_id': '1f08ab3a-f6ff-662a-8000-bea8a8b92712'}}, metadata=None, created_at=None, parent_config=None, tasks=(), interrupts=())"
      ]
     },
     "execution_count": 16,
     "metadata": {},
     "output_type": "execute_result"
    }
   ],
   "source": [
    "workflow.get_state({'configurable':{'thread_id':1,'checkpoint_id':'1f08ab3a-f6ff-662a-8000-bea8a8b92712'}})"
   ]
  },
  {
   "cell_type": "code",
   "execution_count": 18,
   "id": "286ffd58",
   "metadata": {},
   "outputs": [
    {
     "data": {
      "text/plain": [
       "{'topic': 'pizza',\n",
       " 'joke': \"I've been trying to come up with a good pizza joke, but I keep getting crust-rated.\",\n",
       " 'explaination': 'This joke relies on a classic **pun**!\\n\\nHere\\'s the breakdown:\\n\\n1.  **The Setup:** The speaker is trying to come up with a good *pizza* joke, implying they\\'re having difficulty or struggling.\\n\\n2.  **The Pun/Punchline:** \"crust-rated\"\\n\\n    *   **Sounds like:** \"frustrated\" – This is the key. When you\\'re \"frustrated,\" it means you\\'re feeling annoyed or discouraged because you\\'re unable to achieve something (like writing a good joke). This perfectly describes the speaker\\'s predicament.\\n    *   **Pizza connection:** \"Crust\" is a fundamental part of a pizza. By using \"crust-rated,\" the joke cleverly incorporates a pizza-related term into the pun.\\n\\n**Why it\\'s funny:**\\n\\nThe humor comes from the clever wordplay. The speaker is *frustrated* trying to write *pizza* jokes, and they express that feeling by using a term (\"crust-rated\") that sounds exactly like \"frustrated\" but also directly relates to the subject of pizza. It\\'s a self-referential joke that uses its own topic to deliver the punchline about the speaker\\'s struggle.'}"
      ]
     },
     "execution_count": 18,
     "metadata": {},
     "output_type": "execute_result"
    }
   ],
   "source": [
    "workflow.invoke(None,{'configurable':{'thread_id':1,'checkpoint_id':'1f08ace6-5f95-62ad-8000-e512dacb2d18'}})"
   ]
  },
  {
   "cell_type": "markdown",
   "id": "42390068",
   "metadata": {},
   "source": [
    "# Updating state\n"
   ]
  },
  {
   "cell_type": "code",
   "execution_count": 21,
   "id": "2ac4de0c",
   "metadata": {},
   "outputs": [
    {
     "data": {
      "text/plain": [
       "{'configurable': {'thread_id': '1',\n",
       "  'checkpoint_ns': '',\n",
       "  'checkpoint_id': '1f08acf1-5cab-6c71-8001-83be9b23c8bb'}}"
      ]
     },
     "execution_count": 21,
     "metadata": {},
     "output_type": "execute_result"
    }
   ],
   "source": [
    "workflow.update_state({'configurable':{'thread_id':1,'checkpoint_id':'1f08ace6-5f95-62ad-8000-e512dacb2d18','checkpoint_ns':\"\"}}, {'topic':'samosa'})"
   ]
  },
  {
   "cell_type": "code",
   "execution_count": 22,
   "id": "2cfd93e9",
   "metadata": {},
   "outputs": [
    {
     "data": {
      "text/plain": [
       "[StateSnapshot(values={'topic': 'samosa'}, next=('generate_joke',), config={'configurable': {'thread_id': '1', 'checkpoint_ns': '', 'checkpoint_id': '1f08acf1-5cab-6c71-8001-83be9b23c8bb'}}, metadata={'source': 'update', 'step': 1, 'parents': {}}, created_at='2025-09-06T03:10:47.695664+00:00', parent_config={'configurable': {'thread_id': '1', 'checkpoint_ns': '', 'checkpoint_id': '1f08ace6-5f95-62ad-8000-e512dacb2d18'}}, tasks=(PregelTask(id='59ce987e-b7af-0c88-f058-cff506778577', name='generate_joke', path=('__pregel_pull', 'generate_joke'), error=None, interrupts=(), state=None, result=None),), interrupts=()),\n",
       " StateSnapshot(values={'topic': 'pizza', 'joke': \"I've been trying to come up with a good pizza joke, but I keep getting crust-rated.\", 'explaination': 'This joke relies on a classic **pun**!\\n\\nHere\\'s the breakdown:\\n\\n1.  **The Setup:** The speaker is trying to come up with a good *pizza* joke, implying they\\'re having difficulty or struggling.\\n\\n2.  **The Pun/Punchline:** \"crust-rated\"\\n\\n    *   **Sounds like:** \"frustrated\" – This is the key. When you\\'re \"frustrated,\" it means you\\'re feeling annoyed or discouraged because you\\'re unable to achieve something (like writing a good joke). This perfectly describes the speaker\\'s predicament.\\n    *   **Pizza connection:** \"Crust\" is a fundamental part of a pizza. By using \"crust-rated,\" the joke cleverly incorporates a pizza-related term into the pun.\\n\\n**Why it\\'s funny:**\\n\\nThe humor comes from the clever wordplay. The speaker is *frustrated* trying to write *pizza* jokes, and they express that feeling by using a term (\"crust-rated\") that sounds exactly like \"frustrated\" but also directly relates to the subject of pizza. It\\'s a self-referential joke that uses its own topic to deliver the punchline about the speaker\\'s struggle.'}, next=(), config={'configurable': {'thread_id': '1', 'checkpoint_ns': '', 'checkpoint_id': '1f08aceb-ca69-6ade-8002-c97bcdc41db1'}}, metadata={'source': 'loop', 'step': 2, 'parents': {}}, created_at='2025-09-06T03:08:18.141627+00:00', parent_config={'configurable': {'thread_id': '1', 'checkpoint_ns': '', 'checkpoint_id': '1f08aceb-85ca-63f1-8001-55e49887bf1f'}}, tasks=(), interrupts=()),\n",
       " StateSnapshot(values={'topic': 'pizza', 'joke': \"I've been trying to come up with a good pizza joke, but I keep getting crust-rated.\"}, next=('generate_explaination',), config={'configurable': {'thread_id': '1', 'checkpoint_ns': '', 'checkpoint_id': '1f08aceb-85ca-63f1-8001-55e49887bf1f'}}, metadata={'source': 'loop', 'step': 1, 'parents': {}}, created_at='2025-09-06T03:08:10.946011+00:00', parent_config={'configurable': {'thread_id': '1', 'checkpoint_ns': '', 'checkpoint_id': '1f08ace6-5f95-62ad-8000-e512dacb2d18'}}, tasks=(PregelTask(id='75117ada-c594-6e91-c838-fadd578a50f0', name='generate_explaination', path=('__pregel_pull', 'generate_explaination'), error=None, interrupts=(), state=None, result={'explaination': 'This joke relies on a classic **pun**!\\n\\nHere\\'s the breakdown:\\n\\n1.  **The Setup:** The speaker is trying to come up with a good *pizza* joke, implying they\\'re having difficulty or struggling.\\n\\n2.  **The Pun/Punchline:** \"crust-rated\"\\n\\n    *   **Sounds like:** \"frustrated\" – This is the key. When you\\'re \"frustrated,\" it means you\\'re feeling annoyed or discouraged because you\\'re unable to achieve something (like writing a good joke). This perfectly describes the speaker\\'s predicament.\\n    *   **Pizza connection:** \"Crust\" is a fundamental part of a pizza. By using \"crust-rated,\" the joke cleverly incorporates a pizza-related term into the pun.\\n\\n**Why it\\'s funny:**\\n\\nThe humor comes from the clever wordplay. The speaker is *frustrated* trying to write *pizza* jokes, and they express that feeling by using a term (\"crust-rated\") that sounds exactly like \"frustrated\" but also directly relates to the subject of pizza. It\\'s a self-referential joke that uses its own topic to deliver the punchline about the speaker\\'s struggle.'}),), interrupts=()),\n",
       " StateSnapshot(values={'topic': 'pizza', 'joke': \"Why did the pizza maker break up with the dough?\\n\\nHe just couldn't *knead* her anymore.\", 'explaination': 'This is a classic pun! Here\\'s the breakdown:\\n\\n1.  **The Setup:** We have a \"pizza maker\" and \"dough.\" The core activity a pizza maker does with dough is *kneading* it (working it with their hands to develop the gluten). The idea of them \"breaking up\" suggests a relationship ending.\\n\\n2.  **The Pun Word:** The word \"knead\" (pronounced \"need\") is the key.\\n\\n    *   **Meaning 1 (Literal, pizza-making):** In the context of a pizza maker and dough, \"knead\" refers to the physical act of pressing and folding the dough. If he \"couldn\\'t knead her anymore,\" it could literally mean he was unable or unwilling to perform that necessary step for the dough.\\n\\n    *   **Meaning 2 (Homophone, relationship):** \"Knead\" sounds exactly like the word \"need.\" In the context of a relationship, if someone \"couldn\\'t *need* her anymore,\" it means they no longer required her presence, affection, or simply didn\\'t want her in their life – a very common reason for a breakup.\\n\\n**The Joke:** The humor comes from the clever play on words, combining the literal action of a pizza maker (kneading dough) with the metaphorical reason for a breakup (not needing someone) using a single word that sounds the same but has two different meanings.'}, next=(), config={'configurable': {'thread_id': '1', 'checkpoint_ns': '', 'checkpoint_id': '1f08ace6-fa98-617e-8002-5ac23b305611'}}, metadata={'source': 'loop', 'step': 2, 'parents': {}}, created_at='2025-09-06T03:06:08.976086+00:00', parent_config={'configurable': {'thread_id': '1', 'checkpoint_ns': '', 'checkpoint_id': '1f08ace6-b9f0-616e-8001-4f710c4b1a89'}}, tasks=(), interrupts=()),\n",
       " StateSnapshot(values={'topic': 'pizza', 'joke': \"Why did the pizza maker break up with the dough?\\n\\nHe just couldn't *knead* her anymore.\"}, next=('generate_explaination',), config={'configurable': {'thread_id': '1', 'checkpoint_ns': '', 'checkpoint_id': '1f08ace6-b9f0-616e-8001-4f710c4b1a89'}}, metadata={'source': 'loop', 'step': 1, 'parents': {}}, created_at='2025-09-06T03:06:02.196379+00:00', parent_config={'configurable': {'thread_id': '1', 'checkpoint_ns': '', 'checkpoint_id': '1f08ace6-5f95-62ad-8000-e512dacb2d18'}}, tasks=(PregelTask(id='69adacc9-a886-ad73-3c0f-0c2823a12f84', name='generate_explaination', path=('__pregel_pull', 'generate_explaination'), error=None, interrupts=(), state=None, result={'explaination': 'This is a classic pun! Here\\'s the breakdown:\\n\\n1.  **The Setup:** We have a \"pizza maker\" and \"dough.\" The core activity a pizza maker does with dough is *kneading* it (working it with their hands to develop the gluten). The idea of them \"breaking up\" suggests a relationship ending.\\n\\n2.  **The Pun Word:** The word \"knead\" (pronounced \"need\") is the key.\\n\\n    *   **Meaning 1 (Literal, pizza-making):** In the context of a pizza maker and dough, \"knead\" refers to the physical act of pressing and folding the dough. If he \"couldn\\'t knead her anymore,\" it could literally mean he was unable or unwilling to perform that necessary step for the dough.\\n\\n    *   **Meaning 2 (Homophone, relationship):** \"Knead\" sounds exactly like the word \"need.\" In the context of a relationship, if someone \"couldn\\'t *need* her anymore,\" it means they no longer required her presence, affection, or simply didn\\'t want her in their life – a very common reason for a breakup.\\n\\n**The Joke:** The humor comes from the clever play on words, combining the literal action of a pizza maker (kneading dough) with the metaphorical reason for a breakup (not needing someone) using a single word that sounds the same but has two different meanings.'}),), interrupts=()),\n",
       " StateSnapshot(values={'topic': 'pizza'}, next=('generate_joke',), config={'configurable': {'thread_id': '1', 'checkpoint_ns': '', 'checkpoint_id': '1f08ace6-5f95-62ad-8000-e512dacb2d18'}}, metadata={'source': 'loop', 'step': 0, 'parents': {}}, created_at='2025-09-06T03:05:52.721976+00:00', parent_config={'configurable': {'thread_id': '1', 'checkpoint_ns': '', 'checkpoint_id': '1f08ace6-5f93-6142-bfff-8f267d71638b'}}, tasks=(PregelTask(id='8475a8e6-0073-44a2-3b99-14c229b847dc', name='generate_joke', path=('__pregel_pull', 'generate_joke'), error=None, interrupts=(), state=None, result={'joke': \"Why did the pizza maker break up with the dough?\\n\\nHe just couldn't *knead* her anymore.\"}),), interrupts=()),\n",
       " StateSnapshot(values={}, next=('__start__',), config={'configurable': {'thread_id': '1', 'checkpoint_ns': '', 'checkpoint_id': '1f08ace6-5f93-6142-bfff-8f267d71638b'}}, metadata={'source': 'input', 'step': -1, 'parents': {}}, created_at='2025-09-06T03:05:52.721121+00:00', parent_config=None, tasks=(PregelTask(id='6942ee57-24af-f481-425f-8f7011c0cd58', name='__start__', path=('__pregel_pull', '__start__'), error=None, interrupts=(), state=None, result={'topic': 'pizza'}),), interrupts=())]"
      ]
     },
     "execution_count": 22,
     "metadata": {},
     "output_type": "execute_result"
    }
   ],
   "source": [
    "list(workflow.get_state_history(config1))"
   ]
  },
  {
   "cell_type": "code",
   "execution_count": 23,
   "id": "1caa1188",
   "metadata": {},
   "outputs": [
    {
     "data": {
      "text/plain": [
       "{'topic': 'samosa',\n",
       " 'joke': \"Why are samosas so bad at keeping secrets?\\n\\nBecause they're always full of spicy inside stories!\",\n",
       " 'explaination': 'This joke is a classic example of **wordplay** and **punning**, using the literal characteristics of a samosa to create a humorous, figurative meaning related to secrets.\\n\\nHere\\'s the breakdown:\\n\\n1.  **Samosas are literally \"full of spicy inside\":**\\n    *   A samosa is a pastry with a filling, so it\\'s literally \"full of\" something.\\n    *   The filling (potatoes, peas, spices) is *inside* the pastry.\\n    *   The filling is often very *spicy* due to chili and other seasonings.\\n\\n2.  **\"Spicy inside stories\" as an idiom:**\\n    *   **\"Inside stories\"** is an idiom that refers to confidential, private, or exclusive information – essentially, secrets or gossip that aren\\'t widely known.\\n    *   **\"Spicy\"** when applied to a story, means it\\'s exciting, scandalous, juicy, or intriguing – much like a literally spicy food can be exciting to the palate.\\n\\n**The Punchline:** The joke works by taking the literal description of a samosa (\"full of spicy inside\") and cleverly twisting it to sound like the figurative description of someone who can\\'t keep a secret (\"full of spicy inside stories\").\\n\\nSo, the humor comes from the unexpected literal interpretation of a common idiom, applying human characteristics (being bad at keeping secrets) to an inanimate object (a samosa) based on its physical attributes and the double meaning of words.'}"
      ]
     },
     "execution_count": 23,
     "metadata": {},
     "output_type": "execute_result"
    }
   ],
   "source": [
    "workflow.invoke(None, config1)"
   ]
  },
  {
   "cell_type": "code",
   "execution_count": 24,
   "id": "9dfb4110",
   "metadata": {},
   "outputs": [
    {
     "data": {
      "text/plain": [
       "[StateSnapshot(values={'topic': 'samosa', 'joke': \"Why are samosas so bad at keeping secrets?\\n\\nBecause they're always full of spicy inside stories!\", 'explaination': 'This joke is a classic example of **wordplay** and **punning**, using the literal characteristics of a samosa to create a humorous, figurative meaning related to secrets.\\n\\nHere\\'s the breakdown:\\n\\n1.  **Samosas are literally \"full of spicy inside\":**\\n    *   A samosa is a pastry with a filling, so it\\'s literally \"full of\" something.\\n    *   The filling (potatoes, peas, spices) is *inside* the pastry.\\n    *   The filling is often very *spicy* due to chili and other seasonings.\\n\\n2.  **\"Spicy inside stories\" as an idiom:**\\n    *   **\"Inside stories\"** is an idiom that refers to confidential, private, or exclusive information – essentially, secrets or gossip that aren\\'t widely known.\\n    *   **\"Spicy\"** when applied to a story, means it\\'s exciting, scandalous, juicy, or intriguing – much like a literally spicy food can be exciting to the palate.\\n\\n**The Punchline:** The joke works by taking the literal description of a samosa (\"full of spicy inside\") and cleverly twisting it to sound like the figurative description of someone who can\\'t keep a secret (\"full of spicy inside stories\").\\n\\nSo, the humor comes from the unexpected literal interpretation of a common idiom, applying human characteristics (being bad at keeping secrets) to an inanimate object (a samosa) based on its physical attributes and the double meaning of words.'}, next=(), config={'configurable': {'thread_id': '1', 'checkpoint_ns': '', 'checkpoint_id': '1f08acfa-f230-6f62-8003-9fd140468240'}}, metadata={'source': 'loop', 'step': 3, 'parents': {}}, created_at='2025-09-06T03:15:04.965864+00:00', parent_config={'configurable': {'thread_id': '1', 'checkpoint_ns': '', 'checkpoint_id': '1f08acfa-a024-6363-8002-922b387bd958'}}, tasks=(), interrupts=()),\n",
       " StateSnapshot(values={'topic': 'samosa', 'joke': \"Why are samosas so bad at keeping secrets?\\n\\nBecause they're always full of spicy inside stories!\"}, next=('generate_explaination',), config={'configurable': {'thread_id': '1', 'checkpoint_ns': '', 'checkpoint_id': '1f08acfa-a024-6363-8002-922b387bd958'}}, metadata={'source': 'loop', 'step': 2, 'parents': {}}, created_at='2025-09-06T03:14:56.362362+00:00', parent_config={'configurable': {'thread_id': '1', 'checkpoint_ns': '', 'checkpoint_id': '1f08acf1-5cab-6c71-8001-83be9b23c8bb'}}, tasks=(PregelTask(id='9255211b-af7e-c4a1-d960-6801703d7e47', name='generate_explaination', path=('__pregel_pull', 'generate_explaination'), error=None, interrupts=(), state=None, result={'explaination': 'This joke is a classic example of **wordplay** and **punning**, using the literal characteristics of a samosa to create a humorous, figurative meaning related to secrets.\\n\\nHere\\'s the breakdown:\\n\\n1.  **Samosas are literally \"full of spicy inside\":**\\n    *   A samosa is a pastry with a filling, so it\\'s literally \"full of\" something.\\n    *   The filling (potatoes, peas, spices) is *inside* the pastry.\\n    *   The filling is often very *spicy* due to chili and other seasonings.\\n\\n2.  **\"Spicy inside stories\" as an idiom:**\\n    *   **\"Inside stories\"** is an idiom that refers to confidential, private, or exclusive information – essentially, secrets or gossip that aren\\'t widely known.\\n    *   **\"Spicy\"** when applied to a story, means it\\'s exciting, scandalous, juicy, or intriguing – much like a literally spicy food can be exciting to the palate.\\n\\n**The Punchline:** The joke works by taking the literal description of a samosa (\"full of spicy inside\") and cleverly twisting it to sound like the figurative description of someone who can\\'t keep a secret (\"full of spicy inside stories\").\\n\\nSo, the humor comes from the unexpected literal interpretation of a common idiom, applying human characteristics (being bad at keeping secrets) to an inanimate object (a samosa) based on its physical attributes and the double meaning of words.'}),), interrupts=()),\n",
       " StateSnapshot(values={'topic': 'samosa'}, next=('generate_joke',), config={'configurable': {'thread_id': '1', 'checkpoint_ns': '', 'checkpoint_id': '1f08acf1-5cab-6c71-8001-83be9b23c8bb'}}, metadata={'source': 'update', 'step': 1, 'parents': {}}, created_at='2025-09-06T03:10:47.695664+00:00', parent_config={'configurable': {'thread_id': '1', 'checkpoint_ns': '', 'checkpoint_id': '1f08ace6-5f95-62ad-8000-e512dacb2d18'}}, tasks=(PregelTask(id='59ce987e-b7af-0c88-f058-cff506778577', name='generate_joke', path=('__pregel_pull', 'generate_joke'), error=None, interrupts=(), state=None, result={'joke': \"Why are samosas so bad at keeping secrets?\\n\\nBecause they're always full of spicy inside stories!\"}),), interrupts=()),\n",
       " StateSnapshot(values={'topic': 'pizza', 'joke': \"I've been trying to come up with a good pizza joke, but I keep getting crust-rated.\", 'explaination': 'This joke relies on a classic **pun**!\\n\\nHere\\'s the breakdown:\\n\\n1.  **The Setup:** The speaker is trying to come up with a good *pizza* joke, implying they\\'re having difficulty or struggling.\\n\\n2.  **The Pun/Punchline:** \"crust-rated\"\\n\\n    *   **Sounds like:** \"frustrated\" – This is the key. When you\\'re \"frustrated,\" it means you\\'re feeling annoyed or discouraged because you\\'re unable to achieve something (like writing a good joke). This perfectly describes the speaker\\'s predicament.\\n    *   **Pizza connection:** \"Crust\" is a fundamental part of a pizza. By using \"crust-rated,\" the joke cleverly incorporates a pizza-related term into the pun.\\n\\n**Why it\\'s funny:**\\n\\nThe humor comes from the clever wordplay. The speaker is *frustrated* trying to write *pizza* jokes, and they express that feeling by using a term (\"crust-rated\") that sounds exactly like \"frustrated\" but also directly relates to the subject of pizza. It\\'s a self-referential joke that uses its own topic to deliver the punchline about the speaker\\'s struggle.'}, next=(), config={'configurable': {'thread_id': '1', 'checkpoint_ns': '', 'checkpoint_id': '1f08aceb-ca69-6ade-8002-c97bcdc41db1'}}, metadata={'source': 'loop', 'step': 2, 'parents': {}}, created_at='2025-09-06T03:08:18.141627+00:00', parent_config={'configurable': {'thread_id': '1', 'checkpoint_ns': '', 'checkpoint_id': '1f08aceb-85ca-63f1-8001-55e49887bf1f'}}, tasks=(), interrupts=()),\n",
       " StateSnapshot(values={'topic': 'pizza', 'joke': \"I've been trying to come up with a good pizza joke, but I keep getting crust-rated.\"}, next=('generate_explaination',), config={'configurable': {'thread_id': '1', 'checkpoint_ns': '', 'checkpoint_id': '1f08aceb-85ca-63f1-8001-55e49887bf1f'}}, metadata={'source': 'loop', 'step': 1, 'parents': {}}, created_at='2025-09-06T03:08:10.946011+00:00', parent_config={'configurable': {'thread_id': '1', 'checkpoint_ns': '', 'checkpoint_id': '1f08ace6-5f95-62ad-8000-e512dacb2d18'}}, tasks=(PregelTask(id='75117ada-c594-6e91-c838-fadd578a50f0', name='generate_explaination', path=('__pregel_pull', 'generate_explaination'), error=None, interrupts=(), state=None, result={'explaination': 'This joke relies on a classic **pun**!\\n\\nHere\\'s the breakdown:\\n\\n1.  **The Setup:** The speaker is trying to come up with a good *pizza* joke, implying they\\'re having difficulty or struggling.\\n\\n2.  **The Pun/Punchline:** \"crust-rated\"\\n\\n    *   **Sounds like:** \"frustrated\" – This is the key. When you\\'re \"frustrated,\" it means you\\'re feeling annoyed or discouraged because you\\'re unable to achieve something (like writing a good joke). This perfectly describes the speaker\\'s predicament.\\n    *   **Pizza connection:** \"Crust\" is a fundamental part of a pizza. By using \"crust-rated,\" the joke cleverly incorporates a pizza-related term into the pun.\\n\\n**Why it\\'s funny:**\\n\\nThe humor comes from the clever wordplay. The speaker is *frustrated* trying to write *pizza* jokes, and they express that feeling by using a term (\"crust-rated\") that sounds exactly like \"frustrated\" but also directly relates to the subject of pizza. It\\'s a self-referential joke that uses its own topic to deliver the punchline about the speaker\\'s struggle.'}),), interrupts=()),\n",
       " StateSnapshot(values={'topic': 'pizza', 'joke': \"Why did the pizza maker break up with the dough?\\n\\nHe just couldn't *knead* her anymore.\", 'explaination': 'This is a classic pun! Here\\'s the breakdown:\\n\\n1.  **The Setup:** We have a \"pizza maker\" and \"dough.\" The core activity a pizza maker does with dough is *kneading* it (working it with their hands to develop the gluten). The idea of them \"breaking up\" suggests a relationship ending.\\n\\n2.  **The Pun Word:** The word \"knead\" (pronounced \"need\") is the key.\\n\\n    *   **Meaning 1 (Literal, pizza-making):** In the context of a pizza maker and dough, \"knead\" refers to the physical act of pressing and folding the dough. If he \"couldn\\'t knead her anymore,\" it could literally mean he was unable or unwilling to perform that necessary step for the dough.\\n\\n    *   **Meaning 2 (Homophone, relationship):** \"Knead\" sounds exactly like the word \"need.\" In the context of a relationship, if someone \"couldn\\'t *need* her anymore,\" it means they no longer required her presence, affection, or simply didn\\'t want her in their life – a very common reason for a breakup.\\n\\n**The Joke:** The humor comes from the clever play on words, combining the literal action of a pizza maker (kneading dough) with the metaphorical reason for a breakup (not needing someone) using a single word that sounds the same but has two different meanings.'}, next=(), config={'configurable': {'thread_id': '1', 'checkpoint_ns': '', 'checkpoint_id': '1f08ace6-fa98-617e-8002-5ac23b305611'}}, metadata={'source': 'loop', 'step': 2, 'parents': {}}, created_at='2025-09-06T03:06:08.976086+00:00', parent_config={'configurable': {'thread_id': '1', 'checkpoint_ns': '', 'checkpoint_id': '1f08ace6-b9f0-616e-8001-4f710c4b1a89'}}, tasks=(), interrupts=()),\n",
       " StateSnapshot(values={'topic': 'pizza', 'joke': \"Why did the pizza maker break up with the dough?\\n\\nHe just couldn't *knead* her anymore.\"}, next=('generate_explaination',), config={'configurable': {'thread_id': '1', 'checkpoint_ns': '', 'checkpoint_id': '1f08ace6-b9f0-616e-8001-4f710c4b1a89'}}, metadata={'source': 'loop', 'step': 1, 'parents': {}}, created_at='2025-09-06T03:06:02.196379+00:00', parent_config={'configurable': {'thread_id': '1', 'checkpoint_ns': '', 'checkpoint_id': '1f08ace6-5f95-62ad-8000-e512dacb2d18'}}, tasks=(PregelTask(id='69adacc9-a886-ad73-3c0f-0c2823a12f84', name='generate_explaination', path=('__pregel_pull', 'generate_explaination'), error=None, interrupts=(), state=None, result={'explaination': 'This is a classic pun! Here\\'s the breakdown:\\n\\n1.  **The Setup:** We have a \"pizza maker\" and \"dough.\" The core activity a pizza maker does with dough is *kneading* it (working it with their hands to develop the gluten). The idea of them \"breaking up\" suggests a relationship ending.\\n\\n2.  **The Pun Word:** The word \"knead\" (pronounced \"need\") is the key.\\n\\n    *   **Meaning 1 (Literal, pizza-making):** In the context of a pizza maker and dough, \"knead\" refers to the physical act of pressing and folding the dough. If he \"couldn\\'t knead her anymore,\" it could literally mean he was unable or unwilling to perform that necessary step for the dough.\\n\\n    *   **Meaning 2 (Homophone, relationship):** \"Knead\" sounds exactly like the word \"need.\" In the context of a relationship, if someone \"couldn\\'t *need* her anymore,\" it means they no longer required her presence, affection, or simply didn\\'t want her in their life – a very common reason for a breakup.\\n\\n**The Joke:** The humor comes from the clever play on words, combining the literal action of a pizza maker (kneading dough) with the metaphorical reason for a breakup (not needing someone) using a single word that sounds the same but has two different meanings.'}),), interrupts=()),\n",
       " StateSnapshot(values={'topic': 'pizza'}, next=('generate_joke',), config={'configurable': {'thread_id': '1', 'checkpoint_ns': '', 'checkpoint_id': '1f08ace6-5f95-62ad-8000-e512dacb2d18'}}, metadata={'source': 'loop', 'step': 0, 'parents': {}}, created_at='2025-09-06T03:05:52.721976+00:00', parent_config={'configurable': {'thread_id': '1', 'checkpoint_ns': '', 'checkpoint_id': '1f08ace6-5f93-6142-bfff-8f267d71638b'}}, tasks=(PregelTask(id='8475a8e6-0073-44a2-3b99-14c229b847dc', name='generate_joke', path=('__pregel_pull', 'generate_joke'), error=None, interrupts=(), state=None, result={'joke': \"Why did the pizza maker break up with the dough?\\n\\nHe just couldn't *knead* her anymore.\"}),), interrupts=()),\n",
       " StateSnapshot(values={}, next=('__start__',), config={'configurable': {'thread_id': '1', 'checkpoint_ns': '', 'checkpoint_id': '1f08ace6-5f93-6142-bfff-8f267d71638b'}}, metadata={'source': 'input', 'step': -1, 'parents': {}}, created_at='2025-09-06T03:05:52.721121+00:00', parent_config=None, tasks=(PregelTask(id='6942ee57-24af-f481-425f-8f7011c0cd58', name='__start__', path=('__pregel_pull', '__start__'), error=None, interrupts=(), state=None, result={'topic': 'pizza'}),), interrupts=())]"
      ]
     },
     "execution_count": 24,
     "metadata": {},
     "output_type": "execute_result"
    }
   ],
   "source": [
    "list(workflow.get_state_history(config1))"
   ]
  },
  {
   "cell_type": "code",
   "execution_count": null,
   "id": "b8f61b1a",
   "metadata": {},
   "outputs": [],
   "source": []
  }
 ],
 "metadata": {
  "kernelspec": {
   "display_name": "llmvenv",
   "language": "python",
   "name": "python3"
  },
  "language_info": {
   "codemirror_mode": {
    "name": "ipython",
    "version": 3
   },
   "file_extension": ".py",
   "mimetype": "text/x-python",
   "name": "python",
   "nbconvert_exporter": "python",
   "pygments_lexer": "ipython3",
   "version": "3.12.3"
  }
 },
 "nbformat": 4,
 "nbformat_minor": 5
}

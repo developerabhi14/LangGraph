{
 "cells": [
  {
   "cell_type": "code",
   "execution_count": 2,
   "id": "31f30476",
   "metadata": {},
   "outputs": [],
   "source": [
    "from langgraph.graph import START, StateGraph, END\n",
    "from typing import TypedDict\n",
    "from langchain_google_genai import ChatGoogleGenerativeAI\n",
    "from dotenv import load_dotenv\n",
    "from langgraph.checkpoint.memory import InMemorySaver"
   ]
  },
  {
   "cell_type": "code",
   "execution_count": 3,
   "id": "c66c05e9",
   "metadata": {},
   "outputs": [],
   "source": [
    "load_dotenv()\n",
    "llm=ChatGoogleGenerativeAI(model='gemini-2.5-flash')"
   ]
  },
  {
   "cell_type": "code",
   "execution_count": 5,
   "id": "29409718",
   "metadata": {},
   "outputs": [],
   "source": [
    "class JokeState(TypedDict):\n",
    "    topic: str\n",
    "    joke: str\n",
    "    explaination: str"
   ]
  },
  {
   "cell_type": "code",
   "execution_count": 6,
   "id": "c75f41dc",
   "metadata": {},
   "outputs": [],
   "source": [
    "def generate_joke(state: JokeState):\n",
    "    prompt=f\"generate a single joke on the topic {state['topic']}\"\n",
    "    response=llm.invoke(prompt).content\n",
    "    return {'joke': response}\n",
    "\n",
    "\n",
    "def generate_explaination(state: JokeState):\n",
    "    prompt=f\"Write an explaination for the joke - {state['joke']}\"\n",
    "    response=llm.invoke(prompt).content\n",
    "    return {'explaination': response}"
   ]
  },
  {
   "cell_type": "code",
   "execution_count": 7,
   "id": "2a99703e",
   "metadata": {},
   "outputs": [],
   "source": [
    "graph=StateGraph(JokeState)\n",
    "graph.add_node('generate_joke', generate_joke)\n",
    "graph.add_node('generate_explaination', generate_explaination)\n",
    "\n",
    "graph.add_edge(START, 'generate_joke')\n",
    "graph.add_edge('generate_joke', 'generate_explaination')\n",
    "graph.add_edge('generate_explaination',END)\n",
    "\n",
    "checkpointer=InMemorySaver()\n",
    "workflow=graph.compile(checkpointer=checkpointer)"
   ]
  },
  {
   "cell_type": "code",
   "execution_count": 8,
   "id": "32d1c837",
   "metadata": {},
   "outputs": [
    {
     "data": {
      "text/plain": [
       "{'topic': 'pizza',\n",
       " 'joke': 'Why did the pizza get such a bad attitude?\\nBecause it was so crusty!',\n",
       " 'explaination': 'This is a classic **pun**! Here\\'s how it works:\\n\\n1.  **Literal Meaning (for pizza):** A pizza literally has a **crust**. If it\\'s described as \"crusty,\" it refers to its outer edge being firm, crispy, or well-baked. This is a normal, physical characteristic of pizza.\\n\\n2.  **Figurative Meaning (for a person):** When you describe a *person* as \"crusty,\" it means they are grumpy, irritable, easily annoyed, ill-tempered, or have a generally bad attitude. They might be a bit rough around the edges or set in their ways.\\n\\nThe humor comes from applying the *human* characteristic of being \"crusty\" (grumpy) to the *pizza*, using the word that also describes a *physical part* of the pizza (its crust). The joke tricks your brain into thinking about a pizza\\'s actual crust, then delivers the punchline that uses the same word to mean \"bad attitude.\"\\n\\nSo, the pizza had a bad attitude because it was \"crusty\" in the sense of being grumpy, but the word choice cleverly ties back to its physical nature as a pizza with a crust.'}"
      ]
     },
     "execution_count": 8,
     "metadata": {},
     "output_type": "execute_result"
    }
   ],
   "source": [
    "config1={\"configurable\":{'thread_id':1}}\n",
    "workflow.invoke({'topic':'pizza'}, config=config1)"
   ]
  },
  {
   "cell_type": "code",
   "execution_count": 9,
   "id": "3bf3a394",
   "metadata": {},
   "outputs": [
    {
     "data": {
      "text/plain": [
       "StateSnapshot(values={'topic': 'pizza', 'joke': 'Why did the pizza get such a bad attitude?\\nBecause it was so crusty!', 'explaination': 'This is a classic **pun**! Here\\'s how it works:\\n\\n1.  **Literal Meaning (for pizza):** A pizza literally has a **crust**. If it\\'s described as \"crusty,\" it refers to its outer edge being firm, crispy, or well-baked. This is a normal, physical characteristic of pizza.\\n\\n2.  **Figurative Meaning (for a person):** When you describe a *person* as \"crusty,\" it means they are grumpy, irritable, easily annoyed, ill-tempered, or have a generally bad attitude. They might be a bit rough around the edges or set in their ways.\\n\\nThe humor comes from applying the *human* characteristic of being \"crusty\" (grumpy) to the *pizza*, using the word that also describes a *physical part* of the pizza (its crust). The joke tricks your brain into thinking about a pizza\\'s actual crust, then delivers the punchline that uses the same word to mean \"bad attitude.\"\\n\\nSo, the pizza had a bad attitude because it was \"crusty\" in the sense of being grumpy, but the word choice cleverly ties back to its physical nature as a pizza with a crust.'}, next=(), config={'configurable': {'thread_id': '1', 'checkpoint_ns': '', 'checkpoint_id': '1f08ab3b-7e66-6e3a-8002-258dfc2c6c55'}}, metadata={'source': 'loop', 'step': 2, 'parents': {}}, created_at='2025-09-05T23:54:53.759600+00:00', parent_config={'configurable': {'thread_id': '1', 'checkpoint_ns': '', 'checkpoint_id': '1f08ab3b-43dd-6f95-8001-b2b8c04cc28e'}}, tasks=(), interrupts=())"
      ]
     },
     "execution_count": 9,
     "metadata": {},
     "output_type": "execute_result"
    }
   ],
   "source": [
    "workflow.get_state(config1)"
   ]
  },
  {
   "cell_type": "code",
   "execution_count": 10,
   "id": "62910485",
   "metadata": {},
   "outputs": [
    {
     "data": {
      "text/plain": [
       "[StateSnapshot(values={'topic': 'pizza', 'joke': 'Why did the pizza get such a bad attitude?\\nBecause it was so crusty!', 'explaination': 'This is a classic **pun**! Here\\'s how it works:\\n\\n1.  **Literal Meaning (for pizza):** A pizza literally has a **crust**. If it\\'s described as \"crusty,\" it refers to its outer edge being firm, crispy, or well-baked. This is a normal, physical characteristic of pizza.\\n\\n2.  **Figurative Meaning (for a person):** When you describe a *person* as \"crusty,\" it means they are grumpy, irritable, easily annoyed, ill-tempered, or have a generally bad attitude. They might be a bit rough around the edges or set in their ways.\\n\\nThe humor comes from applying the *human* characteristic of being \"crusty\" (grumpy) to the *pizza*, using the word that also describes a *physical part* of the pizza (its crust). The joke tricks your brain into thinking about a pizza\\'s actual crust, then delivers the punchline that uses the same word to mean \"bad attitude.\"\\n\\nSo, the pizza had a bad attitude because it was \"crusty\" in the sense of being grumpy, but the word choice cleverly ties back to its physical nature as a pizza with a crust.'}, next=(), config={'configurable': {'thread_id': '1', 'checkpoint_ns': '', 'checkpoint_id': '1f08ab3b-7e66-6e3a-8002-258dfc2c6c55'}}, metadata={'source': 'loop', 'step': 2, 'parents': {}}, created_at='2025-09-05T23:54:53.759600+00:00', parent_config={'configurable': {'thread_id': '1', 'checkpoint_ns': '', 'checkpoint_id': '1f08ab3b-43dd-6f95-8001-b2b8c04cc28e'}}, tasks=(), interrupts=()),\n",
       " StateSnapshot(values={'topic': 'pizza', 'joke': 'Why did the pizza get such a bad attitude?\\nBecause it was so crusty!'}, next=('generate_explaination',), config={'configurable': {'thread_id': '1', 'checkpoint_ns': '', 'checkpoint_id': '1f08ab3b-43dd-6f95-8001-b2b8c04cc28e'}}, metadata={'source': 'loop', 'step': 1, 'parents': {}}, created_at='2025-09-05T23:54:47.621780+00:00', parent_config={'configurable': {'thread_id': '1', 'checkpoint_ns': '', 'checkpoint_id': '1f08ab3a-f6ff-662a-8000-bea8a8b92712'}}, tasks=(PregelTask(id='4034534b-5a4c-50fb-9e57-e7b7400418fe', name='generate_explaination', path=('__pregel_pull', 'generate_explaination'), error=None, interrupts=(), state=None, result={'explaination': 'This is a classic **pun**! Here\\'s how it works:\\n\\n1.  **Literal Meaning (for pizza):** A pizza literally has a **crust**. If it\\'s described as \"crusty,\" it refers to its outer edge being firm, crispy, or well-baked. This is a normal, physical characteristic of pizza.\\n\\n2.  **Figurative Meaning (for a person):** When you describe a *person* as \"crusty,\" it means they are grumpy, irritable, easily annoyed, ill-tempered, or have a generally bad attitude. They might be a bit rough around the edges or set in their ways.\\n\\nThe humor comes from applying the *human* characteristic of being \"crusty\" (grumpy) to the *pizza*, using the word that also describes a *physical part* of the pizza (its crust). The joke tricks your brain into thinking about a pizza\\'s actual crust, then delivers the punchline that uses the same word to mean \"bad attitude.\"\\n\\nSo, the pizza had a bad attitude because it was \"crusty\" in the sense of being grumpy, but the word choice cleverly ties back to its physical nature as a pizza with a crust.'}),), interrupts=()),\n",
       " StateSnapshot(values={'topic': 'pizza'}, next=('generate_joke',), config={'configurable': {'thread_id': '1', 'checkpoint_ns': '', 'checkpoint_id': '1f08ab3a-f6ff-662a-8000-bea8a8b92712'}}, metadata={'source': 'loop', 'step': 0, 'parents': {}}, created_at='2025-09-05T23:54:39.561464+00:00', parent_config={'configurable': {'thread_id': '1', 'checkpoint_ns': '', 'checkpoint_id': '1f08ab3a-f6fd-65ac-bfff-6face4013ac5'}}, tasks=(PregelTask(id='78e09233-c600-955f-e4fa-a234d8a10d37', name='generate_joke', path=('__pregel_pull', 'generate_joke'), error=None, interrupts=(), state=None, result={'joke': 'Why did the pizza get such a bad attitude?\\nBecause it was so crusty!'}),), interrupts=()),\n",
       " StateSnapshot(values={}, next=('__start__',), config={'configurable': {'thread_id': '1', 'checkpoint_ns': '', 'checkpoint_id': '1f08ab3a-f6fd-65ac-bfff-6face4013ac5'}}, metadata={'source': 'input', 'step': -1, 'parents': {}}, created_at='2025-09-05T23:54:39.560634+00:00', parent_config=None, tasks=(PregelTask(id='ed14b264-95dd-48a0-ccf2-7263c6a4ab72', name='__start__', path=('__pregel_pull', '__start__'), error=None, interrupts=(), state=None, result={'topic': 'pizza'}),), interrupts=())]"
      ]
     },
     "execution_count": 10,
     "metadata": {},
     "output_type": "execute_result"
    }
   ],
   "source": [
    "list(workflow.get_state_history(config1))"
   ]
  },
  {
   "cell_type": "code",
   "execution_count": 11,
   "id": "abd9426e",
   "metadata": {},
   "outputs": [
    {
     "data": {
      "text/plain": [
       "{'topic': 'pasta',\n",
       " 'joke': 'What do you call a mischievous piece of pasta?\\n\\nAn impasta!',\n",
       " 'explaination': 'This is a classic **pun**, playing on words that sound alike but have different meanings.\\n\\nHere\\'s the breakdown:\\n\\n1.  **\"Mischievous\"**: The setup describes a piece of pasta that is \"mischievous\" – meaning it\\'s playful, naughty, and perhaps a bit tricky or deceitful.\\n\\n2.  **\"Impostor\"**: The punchline \"impasta\" sounds almost exactly like the word \"impostor.\" An **impostor** is someone who pretends to be someone else in order to deceive or trick people. This aligns perfectly with the idea of being \"mischievous.\"\\n\\n3.  **\"Pasta\"**: The joke cleverly substitutes the \"or\" sound at the end of \"impostor\" with \"pasta\" – the very subject of the joke.\\n\\nSo, the humor comes from the surprising and amusing connection between the concept of trickery (mischievous/impostor) and the food item (pasta) through a clever play on words. It\\'s a silly, lighthearted joke!'}"
      ]
     },
     "execution_count": 11,
     "metadata": {},
     "output_type": "execute_result"
    }
   ],
   "source": [
    "config2={\"configurable\":{'thread_id':2}}\n",
    "workflow.invoke({'topic':'pasta'}, config=config2)"
   ]
  },
  {
   "cell_type": "code",
   "execution_count": 12,
   "id": "ed49bf50",
   "metadata": {},
   "outputs": [
    {
     "data": {
      "text/plain": [
       "StateSnapshot(values={'topic': 'pizza', 'joke': 'Why did the pizza get such a bad attitude?\\nBecause it was so crusty!', 'explaination': 'This is a classic **pun**! Here\\'s how it works:\\n\\n1.  **Literal Meaning (for pizza):** A pizza literally has a **crust**. If it\\'s described as \"crusty,\" it refers to its outer edge being firm, crispy, or well-baked. This is a normal, physical characteristic of pizza.\\n\\n2.  **Figurative Meaning (for a person):** When you describe a *person* as \"crusty,\" it means they are grumpy, irritable, easily annoyed, ill-tempered, or have a generally bad attitude. They might be a bit rough around the edges or set in their ways.\\n\\nThe humor comes from applying the *human* characteristic of being \"crusty\" (grumpy) to the *pizza*, using the word that also describes a *physical part* of the pizza (its crust). The joke tricks your brain into thinking about a pizza\\'s actual crust, then delivers the punchline that uses the same word to mean \"bad attitude.\"\\n\\nSo, the pizza had a bad attitude because it was \"crusty\" in the sense of being grumpy, but the word choice cleverly ties back to its physical nature as a pizza with a crust.'}, next=(), config={'configurable': {'thread_id': '1', 'checkpoint_ns': '', 'checkpoint_id': '1f08ab3b-7e66-6e3a-8002-258dfc2c6c55'}}, metadata={'source': 'loop', 'step': 2, 'parents': {}}, created_at='2025-09-05T23:54:53.759600+00:00', parent_config={'configurable': {'thread_id': '1', 'checkpoint_ns': '', 'checkpoint_id': '1f08ab3b-43dd-6f95-8001-b2b8c04cc28e'}}, tasks=(), interrupts=())"
      ]
     },
     "execution_count": 12,
     "metadata": {},
     "output_type": "execute_result"
    }
   ],
   "source": [
    "workflow.get_state(config1)"
   ]
  },
  {
   "cell_type": "code",
   "execution_count": 13,
   "id": "a4c39085",
   "metadata": {},
   "outputs": [
    {
     "data": {
      "text/plain": [
       "StateSnapshot(values={'topic': 'pasta', 'joke': 'What do you call a mischievous piece of pasta?\\n\\nAn impasta!', 'explaination': 'This is a classic **pun**, playing on words that sound alike but have different meanings.\\n\\nHere\\'s the breakdown:\\n\\n1.  **\"Mischievous\"**: The setup describes a piece of pasta that is \"mischievous\" – meaning it\\'s playful, naughty, and perhaps a bit tricky or deceitful.\\n\\n2.  **\"Impostor\"**: The punchline \"impasta\" sounds almost exactly like the word \"impostor.\" An **impostor** is someone who pretends to be someone else in order to deceive or trick people. This aligns perfectly with the idea of being \"mischievous.\"\\n\\n3.  **\"Pasta\"**: The joke cleverly substitutes the \"or\" sound at the end of \"impostor\" with \"pasta\" – the very subject of the joke.\\n\\nSo, the humor comes from the surprising and amusing connection between the concept of trickery (mischievous/impostor) and the food item (pasta) through a clever play on words. It\\'s a silly, lighthearted joke!'}, next=(), config={'configurable': {'thread_id': '2', 'checkpoint_ns': '', 'checkpoint_id': '1f08ab42-fb8b-60ac-8002-ebd7cde72589'}}, metadata={'source': 'loop', 'step': 2, 'parents': {}}, created_at='2025-09-05T23:58:14.786420+00:00', parent_config={'configurable': {'thread_id': '2', 'checkpoint_ns': '', 'checkpoint_id': '1f08ab42-bee6-6905-8001-2e87b2fdcad7'}}, tasks=(), interrupts=())"
      ]
     },
     "execution_count": 13,
     "metadata": {},
     "output_type": "execute_result"
    }
   ],
   "source": [
    "workflow.get_state(config2)"
   ]
  },
  {
   "cell_type": "code",
   "execution_count": null,
   "id": "8223d38b",
   "metadata": {},
   "outputs": [],
   "source": []
  }
 ],
 "metadata": {
  "kernelspec": {
   "display_name": "llmvenv",
   "language": "python",
   "name": "python3"
  },
  "language_info": {
   "codemirror_mode": {
    "name": "ipython",
    "version": 3
   },
   "file_extension": ".py",
   "mimetype": "text/x-python",
   "name": "python",
   "nbconvert_exporter": "python",
   "pygments_lexer": "ipython3",
   "version": "3.12.3"
  }
 },
 "nbformat": 4,
 "nbformat_minor": 5
}

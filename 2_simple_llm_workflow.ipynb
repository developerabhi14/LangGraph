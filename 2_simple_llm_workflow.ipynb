{
 "cells": [
  {
   "cell_type": "code",
   "execution_count": 3,
   "id": "cc63a0b4",
   "metadata": {},
   "outputs": [],
   "source": [
    "from langgraph.graph import StateGraph, START, END\n",
    "from langchain_google_genai import ChatGoogleGenerativeAI\n",
    "from typing import TypedDict\n",
    "from dotenv import load_dotenv"
   ]
  },
  {
   "cell_type": "code",
   "execution_count": 4,
   "id": "24775dfa",
   "metadata": {},
   "outputs": [
    {
     "data": {
      "text/plain": [
       "True"
      ]
     },
     "execution_count": 4,
     "metadata": {},
     "output_type": "execute_result"
    }
   ],
   "source": [
    "load_dotenv()"
   ]
  },
  {
   "cell_type": "code",
   "execution_count": 5,
   "id": "4a0e0808",
   "metadata": {},
   "outputs": [],
   "source": [
    "model=ChatGoogleGenerativeAI(model='gemini-1.5-flash')"
   ]
  },
  {
   "cell_type": "code",
   "execution_count": 6,
   "id": "873b22eb",
   "metadata": {},
   "outputs": [],
   "source": [
    "# create a state\n",
    "class LLMState(TypedDict):\n",
    "    question: str\n",
    "    answer:str"
   ]
  },
  {
   "cell_type": "code",
   "execution_count": 7,
   "id": "c76337ae",
   "metadata": {},
   "outputs": [],
   "source": [
    "def llm_qa(state: LLMState)-> LLMState:\n",
    "    question=state['question']\n",
    "\n",
    "    #form a prompt\n",
    "    prompt=f\"Answer the following question: \\n {question}\"\n",
    "\n",
    "    # ask the question to llm\n",
    "    answer=model.invoke(prompt).content\n",
    "\n",
    "    state['answer']=answer\n",
    "    return state"
   ]
  },
  {
   "cell_type": "code",
   "execution_count": 9,
   "id": "5ae13a46",
   "metadata": {},
   "outputs": [],
   "source": [
    "# create a graph\n",
    "graph=StateGraph(LLMState)\n",
    "# add nodes\n",
    "graph.add_node('llm_qa',llm_qa)\n",
    "# add edges\n",
    "graph.add_edge(START, 'llm_qa')\n",
    "graph.add_edge('llm_qa', END)\n",
    "workflow=graph.compile()"
   ]
  },
  {
   "cell_type": "code",
   "execution_count": 11,
   "id": "e8357103",
   "metadata": {},
   "outputs": [
    {
     "name": "stdout",
     "output_type": "stream",
     "text": [
      "{'question': 'How far is mars from the earth', 'answer': 'The distance between Earth and Mars is constantly changing because both planets are orbiting the Sun at different speeds and distances.  There\\'s no single answer.\\n\\nAt their closest approach (called \"opposition\"), they can be approximately 54.6 million kilometers (33.9 million miles) apart.  At their furthest (when they are on opposite sides of the Sun), they can be as far as 401 million kilometers (249 million miles) apart.'}\n"
     ]
    }
   ],
   "source": [
    "initial_state={'question':'How far is mars from the earth'}\n",
    "final_state=workflow.invoke(initial_state)\n",
    "print(final_state)"
   ]
  },
  {
   "cell_type": "code",
   "execution_count": null,
   "id": "94ebdeb8",
   "metadata": {},
   "outputs": [],
   "source": []
  }
 ],
 "metadata": {
  "kernelspec": {
   "display_name": "llmvenv",
   "language": "python",
   "name": "python3"
  },
  "language_info": {
   "codemirror_mode": {
    "name": "ipython",
    "version": 3
   },
   "file_extension": ".py",
   "mimetype": "text/x-python",
   "name": "python",
   "nbconvert_exporter": "python",
   "pygments_lexer": "ipython3",
   "version": "3.12.3"
  }
 },
 "nbformat": 4,
 "nbformat_minor": 5
}

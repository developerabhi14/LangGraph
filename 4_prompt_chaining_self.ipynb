{
 "cells": [
  {
   "cell_type": "code",
   "execution_count": 8,
   "id": "444d5ead",
   "metadata": {},
   "outputs": [],
   "source": [
    "from langgraph.graph import StateGraph, START, END\n",
    "from langchain_google_genai import ChatGoogleGenerativeAI\n",
    "from typing import TypedDict\n",
    "from dotenv import load_dotenv"
   ]
  },
  {
   "cell_type": "code",
   "execution_count": 9,
   "id": "666b854e",
   "metadata": {},
   "outputs": [
    {
     "data": {
      "text/plain": [
       "True"
      ]
     },
     "execution_count": 9,
     "metadata": {},
     "output_type": "execute_result"
    }
   ],
   "source": [
    "load_dotenv()"
   ]
  },
  {
   "cell_type": "code",
   "execution_count": 10,
   "id": "10c2d01b",
   "metadata": {},
   "outputs": [],
   "source": [
    "model=ChatGoogleGenerativeAI(model='gemini-1.5-flash')"
   ]
  },
  {
   "cell_type": "code",
   "execution_count": 11,
   "id": "4d8e9c86",
   "metadata": {},
   "outputs": [],
   "source": [
    "class BlogState(TypedDict):\n",
    "    title: str\n",
    "    outline: str\n",
    "    content: str\n",
    "    score: str"
   ]
  },
  {
   "cell_type": "code",
   "execution_count": null,
   "id": "72a68b83",
   "metadata": {},
   "outputs": [],
   "source": [
    "def create_outline(state: BlogState)-> BlogState:\n",
    "    title=state['title']\n",
    "    prompt=f\"Generate a detailed outline for a blog on the topic {title}\"\n",
    "    outline=model.invoke(prompt).content\n",
    "    state['outline']=outline\n",
    "    return state\n",
    "\n",
    "def create_blog(state: BlogState)-> BlogState:\n",
    "    title=state['title']\n",
    "    outline=state['outline']\n",
    "    prompt=f\"Write a detailed blog on the title - {title} using the following outline - {outline}\"\n",
    "    content=model.invoke(prompt).content\n",
    "\n",
    "    state['content']=content\n",
    "    return state\n",
    "\n",
    "def generate_score(state: BlogState)-> BlogState:\n",
    "    outline=state['outline']\n",
    "    content=state['content']\n",
    "    prompt=f\"\"\"\n",
    "    Generate a match score ranging from 0 to 100 based on the outline and content describing the summarization match between content from outline - content:{content}, outline: {outline}.\n",
    "    Give me the matching score only, no description needed. And give me that score round off in two decimal places\n",
    "    \"\"\"\n",
    "    score=model.invoke(prompt).content\n",
    "    state['score']=score\n",
    "    return state\n"
   ]
  },
  {
   "cell_type": "code",
   "execution_count": 13,
   "id": "62280737",
   "metadata": {},
   "outputs": [],
   "source": [
    "graph=StateGraph(BlogState)\n",
    "graph.add_node('create_outline', create_outline)\n",
    "graph.add_node('create_blog', create_blog)\n",
    "graph.add_node('generate_score', generate_score)\n",
    "\n",
    "graph.add_edge(START, 'create_outline')\n",
    "graph.add_edge('create_outline','create_blog')\n",
    "graph.add_edge('create_blog', 'generate_score')\n",
    "graph.add_edge('generate_score', END)\n",
    "\n",
    "workflow=graph.compile()\n"
   ]
  },
  {
   "cell_type": "code",
   "execution_count": 15,
   "id": "85270265",
   "metadata": {},
   "outputs": [
    {
     "name": "stdout",
     "output_type": "stream",
     "text": [
      "{'title': 'Omuamua and 3I Atlas', 'outline': '## Blog Outline: Oumuamua & 3I/Atlas: Interstellar Visitors & Their Mysteries\\n\\n**I. Introduction (approx. 100 words)**\\n\\n* Hook: Start with a captivating sentence about the possibility of interstellar objects visiting our solar system.\\n* Briefly introduce Oumuamua and 3I/Atlas as the first two confirmed interstellar objects.\\n* Highlight the significance of their discovery for our understanding of interstellar space and planetary formation.\\n* Thesis statement: This blog will explore the unique characteristics of Oumuamua and 3I/Atlas, compare and contrast their properties, and discuss the ongoing scientific debate surrounding their origins and nature.\\n\\n\\n**II. Oumuamua: The Mysterious Interstellar Wanderer (approx. 300 words)**\\n\\n* **A. Discovery and Initial Observations:**\\n    * Date of discovery and who discovered it.\\n    * Initial classification as an asteroid, then its unusual trajectory.\\n    *  Mention its highly elongated shape and unusual acceleration.\\n* **B. Physical Characteristics:**\\n    * Size and shape estimations (highly debated).\\n    * Compositional uncertainties (lack of definitive spectroscopic data).\\n    * The \"rocket effect\" hypothesis and its controversies.\\n* **C. Origin and Trajectory:**\\n    *  Possible origins (ejection from a star system).\\n    *  Current trajectory and future path.\\n    *  The \"alien probe\" hypothesis and its scientific refutation.\\n\\n\\n**III. 3I/Atlas: A Different Kind of Interstellar Object (approx. 250 words)**\\n\\n* **A. Discovery and Initial Observations:**\\n    * Date of discovery and initial classification as a comet.\\n    * Its fragmentation and unusual trajectory revealed its interstellar origin.\\n* **B. Physical Characteristics:**\\n    * Size and shape estimations.\\n    * Compositional analysis (compared to Oumuamua).\\n    * Absence of the \"rocket effect.\"\\n* **C. Origin and Trajectory:**\\n    * Potential origin and comparison with Oumuamua’s potential origin.\\n    * Its trajectory and its implications for understanding interstellar objects.\\n\\n\\n**IV. Comparing and Contrasting Oumuamua and 3I/Atlas (approx. 200 words)**\\n\\n* **A. Similarities:**\\n    * Both are interstellar objects.\\n    * Both possess unusual trajectories.\\n    * Both raise questions about the formation and distribution of interstellar objects.\\n* **B. Differences:**\\n    * Shape and size differences.\\n    * Compositional differences (if known).\\n    * The presence or absence of outgassing/cometary activity.\\n    * The \"rocket effect\" observed only in Oumuamua.\\n\\n\\n**V.  The Scientific Debate and Future Research (approx. 200 words)**\\n\\n* **A. Ongoing Research:**\\n    * Future missions and technologies that might help study interstellar objects.\\n    * Data analysis and modeling efforts to better understand their origins and composition.\\n* **B. Open Questions:**\\n    * What is the true nature of Oumuamua?\\n    * How common are interstellar objects?\\n    * What can interstellar objects teach us about other planetary systems?\\n* **C. Implications for Planetary Science and Astrophysics:**\\n    * Insights into the formation and evolution of planetary systems.\\n    * Understanding the distribution of matter in interstellar space.\\n\\n\\n**VI. Conclusion (approx. 100 words)**\\n\\n* Reiterate the significance of Oumuamua and 3I/Atlas as groundbreaking discoveries.\\n* Summarize the key differences and similarities between the two objects.\\n* Emphasize the need for continued research to unravel the mysteries surrounding interstellar objects and their implications for our understanding of the universe.\\n* End with a thought-provoking statement about the future of interstellar object research.\\n\\n\\n**VII.  Call to Action (approx. 50 words)**\\n\\n* Encourage readers to share their thoughts on the topic in the comments.\\n* Suggest further reading on interstellar objects and related topics.\\n* Link to relevant scientific papers or organizations.\\n\\n\\n**VIII.  Visual Elements:**\\n\\n* Include images of artist\\'s renditions of Oumuamua and 3I/Atlas.\\n* Use graphs or charts to compare and contrast their properties.\\n* Consider embedding videos explaining the scientific concepts discussed.\\n\\n\\nThis outline provides a detailed framework. The word counts are approximate and can be adjusted based on the desired length of the blog post.  Remember to cite all sources appropriately.', 'content': '## Oumuamua & 3I/Atlas: Interstellar Visitors & Their Mysteries\\n\\n**I. Introduction**\\n\\nImagine a visitor from another star system, silently slipping through our solar system, a cosmic messenger carrying secrets from distant worlds.  This isn\\'t science fiction; it\\'s the reality revealed by the discovery of interstellar objects like \\'Oumuamua and 3I/Atlas. These two celestial bodies, the first two confirmed interstellar objects detected, have revolutionized our understanding of interstellar space and planetary formation. This blog will explore the unique characteristics of Oumuamua and 3I/Atlas, compare and contrast their properties, and delve into the ongoing scientific debate surrounding their origins and nature.\\n\\n\\n**II. Oumuamua: The Mysterious Interstellar Wanderer**\\n\\n**A. Discovery and Initial Observations:** Discovered in October 2017 by the Pan-STARRS1 telescope in Hawaii, \\'Oumuamua (Hawaiian for \"scout\") was initially classified as an asteroid. However, its highly unusual trajectory, far exceeding the escape velocity of our Sun, quickly revealed its interstellar origin.  Its elongated shape, estimated to be ten times longer than it is wide, and an unexplained acceleration further fueled speculation.\\n\\n**B. Physical Characteristics:**  Size and shape estimations remain highly debated, with some suggesting a length of roughly 400 meters and a width of only 40 meters. Its composition is a complete mystery, due to a lack of definitive spectroscopic data.  The most controversial aspect is the \"rocket effect,\" a slight, unexplained acceleration that some attributed to outgassing, while others proposed more exotic explanations.\\n\\n**C. Origin and Trajectory:** \\'Oumuamua\\'s origin is unknown, but it\\'s likely it was ejected from a star system billions of years ago. Its current trajectory is taking it far out of our solar system, making further observation increasingly difficult. The most sensational, though scientifically refuted, hypothesis suggested it could be an alien probe.  However, the scientific community overwhelmingly favors natural explanations.\\n\\n\\n**III. 3I/Atlas: A Different Kind of Interstellar Object**\\n\\n**A. Discovery and Initial Observations:** Discovered in December 2018 by the ATLAS survey, 3I/Atlas was initially classified as a comet.  However, its fragmentation and hyperbolic trajectory later confirmed its interstellar origin. Unlike \\'Oumuamua, its interstellar nature was initially less certain, requiring more detailed analysis to confirm.\\n\\n**B. Physical Characteristics:**  3I/Atlas was significantly smaller than \\'Oumuamua, and its shape was less elongated.  While less is definitively known about its composition compared to \\'Oumuamua, the presence of outgassing suggested a different composition, more akin to a comet. Notably, it lacked the anomalous acceleration observed in \\'Oumuamua.\\n\\n**C. Origin and Trajectory:**  The origin of 3I/Atlas is also uncertain, but its cometary nature suggests a different formation process compared to \\'Oumuamua. Its trajectory, while hyperbolic, is less extreme than \\'Oumuamua\\'s, providing a contrasting data point for understanding interstellar object dynamics.\\n\\n\\n**IV. Comparing and Contrasting Oumuamua and 3I/Atlas**\\n\\n**A. Similarities:** Both are interstellar objects, exhibiting highly unusual trajectories that confirm their origins outside our solar system.  Both raise crucial questions about the formation and distribution of interstellar objects in the Milky Way galaxy.\\n\\n**B. Differences:** \\'Oumuamua\\'s highly elongated shape contrasts sharply with 3I/Atlas\\'s more typical cometary morphology. While \\'Oumuamua\\'s composition remains enigmatic, 3I/Atlas exhibited cometary activity, indicating a different composition. The most striking difference is the \"rocket effect\" observed in \\'Oumuamua, absent in 3I/Atlas.\\n\\n\\n**V. The Scientific Debate and Future Research**\\n\\n**A. Ongoing Research:**  Future missions, like dedicated interstellar object detection telescopes and potentially even spacecraft rendezvous missions, are crucial for gathering more detailed data. Advanced data analysis and sophisticated computer modelling are vital for understanding their origins and compositions.\\n\\n**B. Open Questions:** What is the true nature of \\'Oumuamua\\'s unusual acceleration? How common are interstellar objects? What can these objects teach us about the formation and evolution of other planetary systems?\\n\\n**C. Implications for Planetary Science and Astrophysics:**  Interstellar objects offer unique insights into the formation and evolution of planetary systems, providing samples of material from other star systems.  Their study also helps us understand the distribution of matter in interstellar space and the processes that shape it.\\n\\n\\n**VI. Conclusion**\\n\\n\\'Oumuamua and 3I/Atlas represent groundbreaking discoveries, offering unprecedented opportunities to study interstellar objects.  While they share the commonality of interstellar origin and unusual trajectories, their differences in shape, composition, and behavior highlight the diversity of these celestial wanderers. Continued research is essential to unravel the mysteries surrounding these objects and their implications for our understanding of the cosmos.  The future of interstellar object research promises even more exciting discoveries, pushing the boundaries of our knowledge about the universe.\\n\\n\\n**VII. Call to Action**\\n\\nShare your thoughts on the mysteries of \\'Oumuamua and 3I/Atlas in the comments below!  For further reading, explore articles from the International Astronomical Union and NASA\\'s website.  [Link to relevant scientific papers/organizations]\\n\\n\\n**VIII. Visual Elements:**\\n\\n[Insert images of artist\\'s renditions of Oumuamua and 3I/Atlas here.  Consider a comparative table summarizing their key properties (size, shape, composition, trajectory, etc.).  If possible, embed a short, explanatory video about interstellar objects.]', 'score': '98.50'}\n"
     ]
    }
   ],
   "source": [
    "initial_state={'title': 'Omuamua and 3I Atlas'}\n",
    "\n",
    "final_state=workflow.invoke(initial_state)\n",
    "print(final_state)"
   ]
  },
  {
   "cell_type": "code",
   "execution_count": null,
   "id": "258e6335",
   "metadata": {},
   "outputs": [],
   "source": []
  }
 ],
 "metadata": {
  "kernelspec": {
   "display_name": "llmvenv",
   "language": "python",
   "name": "python3"
  },
  "language_info": {
   "codemirror_mode": {
    "name": "ipython",
    "version": 3
   },
   "file_extension": ".py",
   "mimetype": "text/x-python",
   "name": "python",
   "nbconvert_exporter": "python",
   "pygments_lexer": "ipython3",
   "version": "3.12.3"
  }
 },
 "nbformat": 4,
 "nbformat_minor": 5
}

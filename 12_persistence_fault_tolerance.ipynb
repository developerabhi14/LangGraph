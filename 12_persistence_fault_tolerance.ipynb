{
 "cells": [
  {
   "cell_type": "code",
   "execution_count": 1,
   "id": "3aae0701",
   "metadata": {},
   "outputs": [],
   "source": [
    "from langgraph.graph import StateGraph, START, END\n",
    "from langgraph.checkpoint.memory import InMemorySaver\n",
    "from typing import TypedDict\n",
    "import time"
   ]
  },
  {
   "cell_type": "code",
   "execution_count": 2,
   "id": "b08195bb",
   "metadata": {},
   "outputs": [],
   "source": [
    "class CrashState(TypedDict):\n",
    "    input:str\n",
    "    step1:str\n",
    "    step2:str\n",
    "    step3:str"
   ]
  },
  {
   "cell_type": "code",
   "execution_count": 6,
   "id": "32daa475",
   "metadata": {},
   "outputs": [],
   "source": [
    "# define sstates\n",
    "\n",
    "def step_1(state: CrashState):\n",
    "    print('Step 1 executed')\n",
    "    return {'step1': 'done', 'input':state['input']}\n",
    "\n",
    "def step_2(state: CrashState):\n",
    "    print('Step 2 hanging....now manually interrupt from thr notebook toolball(stop button)')\n",
    "    time.sleep(30)\n",
    "    return {'step1': 'done'}\n",
    "\n",
    "def step_3(state: CrashState):\n",
    "    print('Step 3 executed')\n",
    "    return {'done': True}\n"
   ]
  },
  {
   "cell_type": "code",
   "execution_count": 8,
   "id": "8edaf32b",
   "metadata": {},
   "outputs": [],
   "source": [
    "builder=StateGraph(CrashState)\n",
    "\n",
    "builder.add_node('step_1', step_1)\n",
    "builder.add_node('step_2', step_2)\n",
    "builder.add_node('step_3', step_3)\n",
    "\n",
    "builder.add_edge(START, 'step_1')\n",
    "builder.add_edge('step_1', 'step_2')\n",
    "builder.add_edge('step_2',  'step_3')\n",
    "builder.add_edge('step_3', END)\n",
    "\n",
    "checkpoint=InMemorySaver()\n",
    "\n",
    "graph=builder.compile(checkpointer=checkpoint)\n"
   ]
  },
  {
   "cell_type": "code",
   "execution_count": 9,
   "id": "2ec9ed99",
   "metadata": {},
   "outputs": [
    {
     "data": {
      "image/png": "[encoded data removed]",
      "text/plain": [
       "<langgraph.graph.state.CompiledStateGraph object at 0x729f92e57ce0>"
      ]
     },
     "execution_count": 9,
     "metadata": {},
     "output_type": "execute_result"
    }
   ],
   "source": [
    "graph"
   ]
  },
  {
   "cell_type": "code",
   "execution_count": 11,
   "id": "b0a57195",
   "metadata": {},
   "outputs": [
    {
     "name": "stdout",
     "output_type": "stream",
     "text": [
      "Running graph:Please manually interrupt during step 2\n",
      "Step 1 executed\n",
      "Step 2 hanging....now manually interrupt from thr notebook toolball(stop button)\n",
      "Kernel manually interrupted(crash simulated)\n"
     ]
    }
   ],
   "source": [
    "config={'configurable':{'thread_id':1}}\n",
    "try:\n",
    "    print(\"Running graph:Please manually interrupt during step 2\")\n",
    "    graph.invoke({'input':'start'}, config=config)\n",
    "except:\n",
    "    print(\"Kernel manually interrupted(crash simulated)\")"
   ]
  },
  {
   "cell_type": "code",
   "execution_count": 12,
   "id": "cf0e0b0e",
   "metadata": {},
   "outputs": [
    {
     "data": {
      "text/plain": [
       "StateSnapshot(values={'input': 'start', 'step1': 'done'}, next=('step_2',), config={'configurable': {'thread_id': '1', 'checkpoint_ns': '', 'checkpoint_id': '1f08aba4-c153-62c4-8004-04fdd0425dbc'}}, metadata={'source': 'loop', 'step': 4, 'parents': {}}, created_at='2025-09-06T00:41:59.349306+00:00', parent_config={'configurable': {'thread_id': '1', 'checkpoint_ns': '', 'checkpoint_id': '1f08aba4-c150-6b5c-8003-2ce0cbfa4bc5'}}, tasks=(PregelTask(id='5b4ba8ea-b263-530f-98db-a539cdf4faed', name='step_2', path=('__pregel_pull', 'step_2'), error=None, interrupts=(), state=None, result=None),), interrupts=())"
      ]
     },
     "execution_count": 12,
     "metadata": {},
     "output_type": "execute_result"
    }
   ],
   "source": [
    "graph.get_state(config)"
   ]
  },
  {
   "cell_type": "code",
   "execution_count": 16,
   "id": "9b9b88ad",
   "metadata": {},
   "outputs": [
    {
     "data": {
      "text/plain": [
       "[StateSnapshot(values={'input': 'start', 'step1': 'done'}, next=('step_2',), config={'configurable': {'thread_id': '1', 'checkpoint_ns': '', 'checkpoint_id': '1f08aba4-c153-62c4-8004-04fdd0425dbc'}}, metadata={'source': 'loop', 'step': 4, 'parents': {}}, created_at='2025-09-06T00:41:59.349306+00:00', parent_config={'configurable': {'thread_id': '1', 'checkpoint_ns': '', 'checkpoint_id': '1f08aba4-c150-6b5c-8003-2ce0cbfa4bc5'}}, tasks=(PregelTask(id='5b4ba8ea-b263-530f-98db-a539cdf4faed', name='step_2', path=('__pregel_pull', 'step_2'), error=None, interrupts=(), state=None, result=None),), interrupts=()),\n",
       " StateSnapshot(values={'input': 'start', 'step1': 'done'}, next=('step_1',), config={'configurable': {'thread_id': '1', 'checkpoint_ns': '', 'checkpoint_id': '1f08aba4-c150-6b5c-8003-2ce0cbfa4bc5'}}, metadata={'source': 'loop', 'step': 3, 'parents': {}}, created_at='2025-09-06T00:41:59.348296+00:00', parent_config={'configurable': {'thread_id': '1', 'checkpoint_ns': '', 'checkpoint_id': '1f08aba4-c14d-6f45-8002-cf637c631707'}}, tasks=(PregelTask(id='ac29eafb-072f-f9f3-6a38-7b45902568e0', name='step_1', path=('__pregel_pull', 'step_1'), error=None, interrupts=(), state=None, result={'step1': 'done', 'input': 'start'}),), interrupts=()),\n",
       " StateSnapshot(values={'input': 'start', 'step1': 'done'}, next=('__start__',), config={'configurable': {'thread_id': '1', 'checkpoint_ns': '', 'checkpoint_id': '1f08aba4-c14d-6f45-8002-cf637c631707'}}, metadata={'source': 'input', 'step': 2, 'parents': {}}, created_at='2025-09-06T00:41:59.347166+00:00', parent_config={'configurable': {'thread_id': '1', 'checkpoint_ns': '', 'checkpoint_id': '1f08aba3-5d5c-6c55-8001-1c64500a484c'}}, tasks=(PregelTask(id='d005c664-be13-7ad0-2053-b2f2d3b4f0b3', name='__start__', path=('__pregel_pull', '__start__'), error=None, interrupts=(), state=None, result={'input': 'start'}),), interrupts=()),\n",
       " StateSnapshot(values={'input': 'start', 'step1': 'done'}, next=('step_2',), config={'configurable': {'thread_id': '1', 'checkpoint_ns': '', 'checkpoint_id': '1f08aba3-5d5c-6c55-8001-1c64500a484c'}}, metadata={'source': 'loop', 'step': 1, 'parents': {}}, created_at='2025-09-06T00:41:22.023935+00:00', parent_config={'configurable': {'thread_id': '1', 'checkpoint_ns': '', 'checkpoint_id': '1f08aba3-5d5b-617e-8000-19843eae72fe'}}, tasks=(PregelTask(id='4bf10f93-f275-f9f0-979c-e40fe8e672d3', name='step_2', path=('__pregel_pull', 'step_2'), error=None, interrupts=(), state=None, result=None),), interrupts=()),\n",
       " StateSnapshot(values={'input': 'start'}, next=('step_1',), config={'configurable': {'thread_id': '1', 'checkpoint_ns': '', 'checkpoint_id': '1f08aba3-5d5b-617e-8000-19843eae72fe'}}, metadata={'source': 'loop', 'step': 0, 'parents': {}}, created_at='2025-09-06T00:41:22.023249+00:00', parent_config={'configurable': {'thread_id': '1', 'checkpoint_ns': '', 'checkpoint_id': '1f08aba3-5d59-6a7e-bfff-2c2b3b164a59'}}, tasks=(PregelTask(id='abf627b7-034f-be8f-84ad-be5525c079b9', name='step_1', path=('__pregel_pull', 'step_1'), error=None, interrupts=(), state=None, result={'step1': 'done', 'input': 'start'}),), interrupts=()),\n",
       " StateSnapshot(values={}, next=('__start__',), config={'configurable': {'thread_id': '1', 'checkpoint_ns': '', 'checkpoint_id': '1f08aba3-5d59-6a7e-bfff-2c2b3b164a59'}}, metadata={'source': 'input', 'step': -1, 'parents': {}}, created_at='2025-09-06T00:41:22.022661+00:00', parent_config=None, tasks=(PregelTask(id='7adfac11-bdcf-fe96-5e6a-6da8360f9e53', name='__start__', path=('__pregel_pull', '__start__'), error=None, interrupts=(), state=None, result={'input': 'start'}),), interrupts=())]"
      ]
     },
     "execution_count": 16,
     "metadata": {},
     "output_type": "execute_result"
    }
   ],
   "source": [
    "list(graph.get_state_history(config=config))"
   ]
  },
  {
   "cell_type": "code",
   "execution_count": 17,
   "id": "cdaeff89",
   "metadata": {},
   "outputs": [
    {
     "name": "stdout",
     "output_type": "stream",
     "text": [
      "Step 2 hanging....now manually interrupt from thr notebook toolball(stop button)\n",
      "Step 3 executed\n",
      "\n",
      "final_state:  {'input': 'start', 'step1': 'done'}\n"
     ]
    }
   ],
   "source": [
    "final_state=graph.invoke(None, config=config)\n",
    "print(\"\\nfinal_state: \", final_state)"
   ]
  },
  {
   "cell_type": "code",
   "execution_count": null,
   "id": "71cfdac5",
   "metadata": {},
   "outputs": [],
   "source": []
  }
 ],
 "metadata": {
  "kernelspec": {
   "display_name": "llmvenv",
   "language": "python",
   "name": "python3"
  },
  "language_info": {
   "codemirror_mode": {
    "name": "ipython",
    "version": 3
   },
   "file_extension": ".py",
   "mimetype": "text/x-python",
   "name": "python",
   "nbconvert_exporter": "python",
   "pygments_lexer": "ipython3",
   "version": "3.12.3"
  }
 },
 "nbformat": 4,
 "nbformat_minor": 5
}

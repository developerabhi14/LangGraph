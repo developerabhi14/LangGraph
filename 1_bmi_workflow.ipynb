{
 "cells": [
  {
   "cell_type": "code",
   "execution_count": 5,
   "id": "5dc8099e",
   "metadata": {},
   "outputs": [],
   "source": [
    "from langgraph.graph import StateGraph, START, END\n",
    "from typing import TypedDict"
   ]
  },
  {
   "cell_type": "code",
   "execution_count": 10,
   "id": "fdd7c1ff",
   "metadata": {},
   "outputs": [],
   "source": [
    "# define state\n",
    "class BMIState(TypedDict):\n",
    "    weight_kg: float\n",
    "    height_m:float\n",
    "    bmi:float\n"
   ]
  },
  {
   "cell_type": "code",
   "execution_count": 11,
   "id": "93636df3",
   "metadata": {},
   "outputs": [],
   "source": [
    "def calculate_bmi(state: BMIState)-> BMIState:\n",
    "    weight=state['weight_kg']\n",
    "    height=state['height_m']\n",
    "\n",
    "    bmi=weight/(height**2)\n",
    "    state['bmi']=round(bmi,2)\n",
    "    return state\n"
   ]
  },
  {
   "cell_type": "code",
   "execution_count": 12,
   "id": "eebb4d08",
   "metadata": {},
   "outputs": [],
   "source": [
    "# define your graph\n",
    "graph=StateGraph(BMIState)\n",
    "\n",
    "# add nodes to your graph\n",
    "graph.add_node('calculate_bmi', calculate_bmi)\n",
    "\n",
    "# add edges to the graph\n",
    "graph.add_edge(START, 'calculate_bmi')\n",
    "graph.add_edge('calculate_bmi', END)\n",
    "\n",
    "# compile the graph\n",
    "workflow=graph.compile()\n",
    "\n"
   ]
  },
  {
   "cell_type": "code",
   "execution_count": 13,
   "id": "29801859",
   "metadata": {},
   "outputs": [
    {
     "name": "stdout",
     "output_type": "stream",
     "text": [
      "{'weight_kg': 80, 'height_m': 1.73, 'bmi': 26.73}\n"
     ]
    }
   ],
   "source": [
    "# execute the graph\n",
    "initial_state={'weight_kg':80, 'height_m':1.73}\n",
    "final_state=workflow.invoke(initial_state)\n",
    "print(final_state)"
   ]
  },
  {
   "cell_type": "code",
   "execution_count": null,
   "id": "4ddc4d79",
   "metadata": {},
   "outputs": [],
   "source": [
    "# visualize the graph\n",
    "from IPython.display import Image\n",
    "Image(workflow.get_graph().draw_mermaid_png())"
   ]
  }
 ],
 "metadata": {
  "kernelspec": {
   "display_name": "llmvenv",
   "language": "python",
   "name": "python3"
  },
  "language_info": {
   "codemirror_mode": {
    "name": "ipython",
    "version": 3
   },
   "file_extension": ".py",
   "mimetype": "text/x-python",
   "name": "python",
   "nbconvert_exporter": "python",
   "pygments_lexer": "ipython3",
   "version": "3.12.3"
  }
 },
 "nbformat": 4,
 "nbformat_minor": 5
}

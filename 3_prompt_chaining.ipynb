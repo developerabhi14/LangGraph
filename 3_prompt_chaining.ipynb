{
 "cells": [
  {
   "cell_type": "code",
   "execution_count": 1,
   "id": "e836333f",
   "metadata": {},
   "outputs": [],
   "source": [
    "from langgraph.graph import StateGraph, START, END\n",
    "from langchain_google_genai import ChatGoogleGenerativeAI\n",
    "from typing import TypedDict\n",
    "from dotenv import load_dotenv"
   ]
  },
  {
   "cell_type": "code",
   "execution_count": 2,
   "id": "d0f2c258",
   "metadata": {},
   "outputs": [
    {
     "data": {
      "text/plain": [
       "True"
      ]
     },
     "execution_count": 2,
     "metadata": {},
     "output_type": "execute_result"
    }
   ],
   "source": [
    "load_dotenv()"
   ]
  },
  {
   "cell_type": "code",
   "execution_count": 3,
   "id": "4ef37b37",
   "metadata": {},
   "outputs": [],
   "source": [
    "model=ChatGoogleGenerativeAI(model='gemini-1.5-flash')"
   ]
  },
  {
   "cell_type": "code",
   "execution_count": 4,
   "id": "7cd4b188",
   "metadata": {},
   "outputs": [],
   "source": [
    "class BlogState(TypedDict):\n",
    "    title: str\n",
    "    outline: str\n",
    "    content: str"
   ]
  },
  {
   "cell_type": "code",
   "execution_count": 5,
   "id": "1f438d5a",
   "metadata": {},
   "outputs": [],
   "source": [
    "def create_outline(state: BlogState)-> BlogState:\n",
    "    title=state['title']\n",
    "    prompt=f\"Generate a detailed outline for a blog on the topic {title}\"\n",
    "    outline=model.invoke(prompt).content\n",
    "    state['outline']=outline\n",
    "    return state\n",
    "\n",
    "def create_blog(state: BlogState)-> BlogState:\n",
    "    title=state['title']\n",
    "    outline=state['outline']\n",
    "    prompt=f\"Write a detailed blog on the title - {title} using the following outline - {outline}\"\n",
    "    content=model.invoke(prompt).content\n",
    "\n",
    "    state['content']=content\n",
    "    return state"
   ]
  },
  {
   "cell_type": "code",
   "execution_count": 6,
   "id": "9875b14c",
   "metadata": {},
   "outputs": [],
   "source": [
    "graph=StateGraph(BlogState)\n",
    "graph.add_node('create_outline', create_outline)\n",
    "graph.add_node('create_blog', create_blog)\n",
    "\n",
    "graph.add_edge(START, 'create_outline')\n",
    "graph.add_edge('create_outline','create_blog')\n",
    "graph.add_edge('create_blog', END)\n",
    "\n",
    "workflow=graph.compile()\n"
   ]
  },
  {
   "cell_type": "code",
   "execution_count": 7,
   "id": "279d8465",
   "metadata": {},
   "outputs": [
    {
     "name": "stdout",
     "output_type": "stream",
     "text": [
      "{'title': 'Omuamua', 'outline': '## Blog Outline: Oumuamua - The Interstellar Mystery\\n\\n**I. Introduction (Grab the reader\\'s attention)**\\n\\n* **Hook:** Start with a captivating sentence about \\'Oumuamua\\'s unique nature and the mystery it presents.  (e.g., \"Imagine an object hurtling through our solar system, unlike anything we\\'ve ever seen before...\")\\n* **Brief Overview:**  What is \\'Oumuamua?  Its discovery date and initial observations.  Mention its interstellar origin – the first confirmed interstellar object.\\n* **Thesis Statement:** Briefly state the blog\\'s purpose – to explore the ongoing debate surrounding \\'Oumuamua\\'s nature and the scientific speculation surrounding it.\\n\\n**II. Oumuamua\\'s Unusual Characteristics**\\n\\n* **Shape and Size:** Discuss the highly elongated shape (possibly cigar-like or pancake-like) and the challenges in determining its precise dimensions.  Include visualizations if possible.\\n* **Trajectory and Speed:** Explain its unusual trajectory and high velocity, highlighting its interstellar origin.\\n* **Lack of Outgassing:** Emphasize the absence of detectable outgassing, contrary to what\\'s expected from comets. This is a key point of contention.\\n* **Unusual Acceleration:** Briefly mention the slight, unexplained acceleration observed by some researchers.\\n\\n**III. The Competing Theories**\\n\\n* **The Comet Hypothesis:** Detail the arguments for \\'Oumuamua being a comet, focusing on the limitations of observations and the explanation for the lack of outgassing.\\n* **The Asteroid Hypothesis:** Explain the arguments for \\'Oumuamua being an asteroid, addressing its unusual shape and trajectory.\\n* **The \"Alien Megastructure\" Hypothesis:** Discuss the more speculative theory that \\'Oumuamua might be an alien artifact or spacecraft.  Present the arguments for and against this hypothesis, emphasizing the lack of definitive evidence.\\n* **Other Less Common Theories:** Briefly mention any other less prevalent theories about its nature.\\n\\n**IV. Scientific Challenges and Limitations**\\n\\n* **Distance and Observational Limitations:** Explain the challenges of observing a fast-moving, distant object with limited time.\\n* **Data Scarcity:** Highlight the lack of sufficient data to definitively confirm any single hypothesis.\\n* **Technological Limitations:** Discuss the limitations of current technology in observing and characterizing such objects.\\n\\n**V. Future Research and Potential Discoveries**\\n\\n* **Future Missions and Technologies:** Discuss potential future missions designed to detect and study interstellar objects.\\n* **Implications for the Search for Extraterrestrial Intelligence (SETI):**  Explore the implications of \\'Oumuamua, regardless of its true nature, for SETI research.\\n* **Understanding Interstellar Objects:** Emphasize the importance of studying interstellar objects like \\'Oumuamua to understand the formation and evolution of planetary systems beyond our own.\\n\\n**VI. Conclusion**\\n\\n* **Summary of Key Findings:** Recap the main points of the blog, reiterating the mystery surrounding \\'Oumuamua\\'s nature.\\n* **Open Questions and Future Prospects:**  Reiterate the unanswered questions and the need for further research.\\n* **Final Thought:** End with a thought-provoking statement about the significance of \\'Oumuamua and its impact on our understanding of the universe.\\n\\n**VII.  Optional additions:**\\n\\n* **Infographics or illustrations:**  Visual aids to explain complex concepts.\\n* **Links to relevant scientific papers or articles:** For readers interested in delving deeper.\\n* **Interactive elements:** Polls or quizzes to engage the reader.\\n* **Call to action:** Encourage readers to share their thoughts or learn more about the topic.\\n\\n\\nThis outline provides a comprehensive framework for a blog post on \\'Oumuamua\\'. Remember to cite your sources and maintain a clear, engaging writing style.  Adjust the length and detail of each section based on your target audience and the desired length of the blog post.', 'content': '## Oumuamua: The Interstellar Mystery\\n\\nImagine an object hurtling through our solar system, unlike anything we\\'ve ever seen before – elongated, dark, and inexplicably accelerating. This is \\'Oumuamua, the first confirmed interstellar object detected within our solar system, and its enigmatic nature continues to fuel scientific debate and inspire wild speculation. This blog post explores the ongoing mystery surrounding \\'Oumuamua, examining the competing theories about its origin and composition, the challenges faced by scientists, and the implications for our understanding of the universe.\\n\\n**I. Introduction**\\n\\n\\'Oumuamua (Hawaiian for \"scout\"), officially designated 1I/2017 U1, was discovered on October 19, 2017, by the Pan-STARRS1 telescope in Hawaii.  Initial observations revealed its interstellar origin, a groundbreaking finding that confirmed the existence of objects traveling between star systems. This blog aims to delve into the ongoing debate surrounding \\'Oumuamua\\'s true nature, exploring the scientific evidence and the fascinating, albeit sometimes controversial, theories attempting to explain its unusual characteristics.\\n\\n**II. Oumuamua\\'s Unusual Characteristics**\\n\\n\\'Oumuamua\\'s most striking feature is its highly elongated shape.  Observations suggest a length-to-width ratio of at least 5:1, possibly even more extreme, resembling either a cigar or a pancake.  Determining its precise dimensions remains challenging due to its distance and rapid movement.  It was initially estimated to be approximately 400 meters long, but later estimates have varied considerably.\\n\\nIts trajectory and speed were also highly unusual.  Its hyperbolic orbit indicated an interstellar origin, entering our solar system at a high velocity and escaping its gravitational pull without being captured.  Further adding to the mystery, \\'Oumuamua showed no signs of detectable outgassing, a characteristic typically associated with comets as they approach the sun. This lack of outgassing, despite its trajectory, is a key point of contention in understanding its nature.  Some researchers also reported a slight, unexplained acceleration, further fueling speculation.\\n\\n\\n**III. The Competing Theories**\\n\\nSeveral hypotheses have been proposed to explain \\'Oumuamua\\'s peculiar characteristics:\\n\\n* **The Comet Hypothesis:**  Some scientists argue that \\'Oumuamua is a comet, suggesting that the lack of observable outgassing might be due to its composition or the depletion of volatile ices during its long interstellar journey.  However, this theory struggles to fully account for the lack of any detectable coma or tail, which are typically associated with comets.\\n\\n* **The Asteroid Hypothesis:**  Another possibility is that \\'Oumuamua is an asteroid, a rocky body originating from another star system.  This theory attempts to explain its unusual shape and trajectory as a result of collisions or other formative processes in its parent system.  However, it doesn\\'t easily explain the slight, unexplained acceleration observed.\\n\\n* **The \"Alien Megastructure\" Hypothesis:**  The most speculative, and arguably most captivating, theory suggests \\'Oumuamua might be an alien artifact, perhaps a derelict spacecraft or a sophisticated probe.  This hypothesis is driven by the object\\'s unusual shape, trajectory, and unexpected acceleration, although it lacks any direct evidence of artificial origin.  The absence of any detectable radio signals further weakens this hypothesis, though it remains a tantalizing possibility for some.\\n\\n* **Other Less Common Theories:**  Other less prevalent theories involve exotic materials or natural processes not yet fully understood.\\n\\n**IV. Scientific Challenges and Limitations**\\n\\nStudying \\'Oumuamua presented significant challenges:\\n\\n* **Distance and Observational Limitations:**  The object\\'s distance and rapid movement limited the time available for observation and the quality of data collected.  Its small size and dark surface made it challenging to detect and characterize.\\n\\n* **Data Scarcity:**  The short observation window resulted in a relatively small amount of data, making it difficult to definitively confirm any single hypothesis.\\n\\n* **Technological Limitations:**  Current technology wasn\\'t fully equipped to observe and characterize such a fast-moving, distant, and unusual object optimally.\\n\\n**V. Future Research and Potential Discoveries**\\n\\nThe study of \\'Oumuamua has underscored the need for improved detection and characterization techniques for interstellar objects.\\n\\n* **Future Missions and Technologies:**  Future missions are being planned to detect and study interstellar objects, potentially involving dedicated telescopes and spacecraft designed to intercept and analyze these objects.\\n\\n* **Implications for the Search for Extraterrestrial Intelligence (SETI):**  While the \"alien megastructure\" hypothesis remains highly speculative, \\'Oumuamua\\'s existence highlights the potential for discovering extraterrestrial technology.  It underscores the importance of continued SETI research and the need to remain open-minded about the possibilities beyond Earth.\\n\\n* **Understanding Interstellar Objects:**  Studying interstellar objects like \\'Oumuamua is crucial for understanding the formation and evolution of planetary systems beyond our own, providing invaluable insights into the processes that shaped our solar system and the universe as a whole.\\n\\n\\n**VI. Conclusion**\\n\\n\\'Oumuamua remains an enigma, a testament to the vastness and mystery of the cosmos.  While the data collected provided valuable information, it wasn\\'t sufficient to definitively determine its nature.  The competing hypotheses – from a naturally occurring comet or asteroid to a more exotic, potentially artificial origin – highlight the limitations of our current understanding and the need for further research.  The discovery of \\'Oumuamua has opened a new chapter in astronomy, prompting the development of new technologies and strategies for detecting and characterizing interstellar objects, potentially revealing even more astonishing discoveries in the years to come.  The unanswered questions surrounding \\'Oumuamua serve as a powerful reminder of how much we still have to learn about the universe and the possibilities that lie beyond our solar system.\\n\\n\\n**VII. Call to action:**  What are your thoughts on the mystery of \\'Oumuamua? Share your opinions and theories in the comments below!  Learn more about interstellar objects by visiting [link to relevant resource].'}\n"
     ]
    }
   ],
   "source": [
    "initial_state={'title': 'Omuamua'}\n",
    "\n",
    "final_state=workflow.invoke(initial_state)\n",
    "print(final_state)"
   ]
  },
  {
   "cell_type": "code",
   "execution_count": 9,
   "id": "9175b120",
   "metadata": {},
   "outputs": [
    {
     "name": "stdout",
     "output_type": "stream",
     "text": [
      "## Blog Outline: Oumuamua - The Interstellar Mystery\n",
      "\n",
      "**I. Introduction (Grab the reader's attention)**\n",
      "\n",
      "* **Hook:** Start with a captivating sentence about 'Oumuamua's unique nature and the mystery it presents.  (e.g., \"Imagine an object hurtling through our solar system, unlike anything we've ever seen before...\")\n",
      "* **Brief Overview:**  What is 'Oumuamua?  Its discovery date and initial observations.  Mention its interstellar origin – the first confirmed interstellar object.\n",
      "* **Thesis Statement:** Briefly state the blog's purpose – to explore the ongoing debate surrounding 'Oumuamua's nature and the scientific speculation surrounding it.\n",
      "\n",
      "**II. Oumuamua's Unusual Characteristics**\n",
      "\n",
      "* **Shape and Size:** Discuss the highly elongated shape (possibly cigar-like or pancake-like) and the challenges in determining its precise dimensions.  Include visualizations if possible.\n",
      "* **Trajectory and Speed:** Explain its unusual trajectory and high velocity, highlighting its interstellar origin.\n",
      "* **Lack of Outgassing:** Emphasize the absence of detectable outgassing, contrary to what's expected from comets. This is a key point of contention.\n",
      "* **Unusual Acceleration:** Briefly mention the slight, unexplained acceleration observed by some researchers.\n",
      "\n",
      "**III. The Competing Theories**\n",
      "\n",
      "* **The Comet Hypothesis:** Detail the arguments for 'Oumuamua being a comet, focusing on the limitations of observations and the explanation for the lack of outgassing.\n",
      "* **The Asteroid Hypothesis:** Explain the arguments for 'Oumuamua being an asteroid, addressing its unusual shape and trajectory.\n",
      "* **The \"Alien Megastructure\" Hypothesis:** Discuss the more speculative theory that 'Oumuamua might be an alien artifact or spacecraft.  Present the arguments for and against this hypothesis, emphasizing the lack of definitive evidence.\n",
      "* **Other Less Common Theories:** Briefly mention any other less prevalent theories about its nature.\n",
      "\n",
      "**IV. Scientific Challenges and Limitations**\n",
      "\n",
      "* **Distance and Observational Limitations:** Explain the challenges of observing a fast-moving, distant object with limited time.\n",
      "* **Data Scarcity:** Highlight the lack of sufficient data to definitively confirm any single hypothesis.\n",
      "* **Technological Limitations:** Discuss the limitations of current technology in observing and characterizing such objects.\n",
      "\n",
      "**V. Future Research and Potential Discoveries**\n",
      "\n",
      "* **Future Missions and Technologies:** Discuss potential future missions designed to detect and study interstellar objects.\n",
      "* **Implications for the Search for Extraterrestrial Intelligence (SETI):**  Explore the implications of 'Oumuamua, regardless of its true nature, for SETI research.\n",
      "* **Understanding Interstellar Objects:** Emphasize the importance of studying interstellar objects like 'Oumuamua to understand the formation and evolution of planetary systems beyond our own.\n",
      "\n",
      "**VI. Conclusion**\n",
      "\n",
      "* **Summary of Key Findings:** Recap the main points of the blog, reiterating the mystery surrounding 'Oumuamua's nature.\n",
      "* **Open Questions and Future Prospects:**  Reiterate the unanswered questions and the need for further research.\n",
      "* **Final Thought:** End with a thought-provoking statement about the significance of 'Oumuamua and its impact on our understanding of the universe.\n",
      "\n",
      "**VII.  Optional additions:**\n",
      "\n",
      "* **Infographics or illustrations:**  Visual aids to explain complex concepts.\n",
      "* **Links to relevant scientific papers or articles:** For readers interested in delving deeper.\n",
      "* **Interactive elements:** Polls or quizzes to engage the reader.\n",
      "* **Call to action:** Encourage readers to share their thoughts or learn more about the topic.\n",
      "\n",
      "\n",
      "This outline provides a comprehensive framework for a blog post on 'Oumuamua'. Remember to cite your sources and maintain a clear, engaging writing style.  Adjust the length and detail of each section based on your target audience and the desired length of the blog post.\n"
     ]
    }
   ],
   "source": [
    "print(final_state['outline'])"
   ]
  },
  {
   "cell_type": "code",
   "execution_count": 10,
   "id": "370f41e1",
   "metadata": {},
   "outputs": [
    {
     "name": "stdout",
     "output_type": "stream",
     "text": [
      "## Oumuamua: The Interstellar Mystery\n",
      "\n",
      "Imagine an object hurtling through our solar system, unlike anything we've ever seen before – elongated, dark, and inexplicably accelerating. This is 'Oumuamua, the first confirmed interstellar object detected within our solar system, and its enigmatic nature continues to fuel scientific debate and inspire wild speculation. This blog post explores the ongoing mystery surrounding 'Oumuamua, examining the competing theories about its origin and composition, the challenges faced by scientists, and the implications for our understanding of the universe.\n",
      "\n",
      "**I. Introduction**\n",
      "\n",
      "'Oumuamua (Hawaiian for \"scout\"), officially designated 1I/2017 U1, was discovered on October 19, 2017, by the Pan-STARRS1 telescope in Hawaii.  Initial observations revealed its interstellar origin, a groundbreaking finding that confirmed the existence of objects traveling between star systems. This blog aims to delve into the ongoing debate surrounding 'Oumuamua's true nature, exploring the scientific evidence and the fascinating, albeit sometimes controversial, theories attempting to explain its unusual characteristics.\n",
      "\n",
      "**II. Oumuamua's Unusual Characteristics**\n",
      "\n",
      "'Oumuamua's most striking feature is its highly elongated shape.  Observations suggest a length-to-width ratio of at least 5:1, possibly even more extreme, resembling either a cigar or a pancake.  Determining its precise dimensions remains challenging due to its distance and rapid movement.  It was initially estimated to be approximately 400 meters long, but later estimates have varied considerably.\n",
      "\n",
      "Its trajectory and speed were also highly unusual.  Its hyperbolic orbit indicated an interstellar origin, entering our solar system at a high velocity and escaping its gravitational pull without being captured.  Further adding to the mystery, 'Oumuamua showed no signs of detectable outgassing, a characteristic typically associated with comets as they approach the sun. This lack of outgassing, despite its trajectory, is a key point of contention in understanding its nature.  Some researchers also reported a slight, unexplained acceleration, further fueling speculation.\n",
      "\n",
      "\n",
      "**III. The Competing Theories**\n",
      "\n",
      "Several hypotheses have been proposed to explain 'Oumuamua's peculiar characteristics:\n",
      "\n",
      "* **The Comet Hypothesis:**  Some scientists argue that 'Oumuamua is a comet, suggesting that the lack of observable outgassing might be due to its composition or the depletion of volatile ices during its long interstellar journey.  However, this theory struggles to fully account for the lack of any detectable coma or tail, which are typically associated with comets.\n",
      "\n",
      "* **The Asteroid Hypothesis:**  Another possibility is that 'Oumuamua is an asteroid, a rocky body originating from another star system.  This theory attempts to explain its unusual shape and trajectory as a result of collisions or other formative processes in its parent system.  However, it doesn't easily explain the slight, unexplained acceleration observed.\n",
      "\n",
      "* **The \"Alien Megastructure\" Hypothesis:**  The most speculative, and arguably most captivating, theory suggests 'Oumuamua might be an alien artifact, perhaps a derelict spacecraft or a sophisticated probe.  This hypothesis is driven by the object's unusual shape, trajectory, and unexpected acceleration, although it lacks any direct evidence of artificial origin.  The absence of any detectable radio signals further weakens this hypothesis, though it remains a tantalizing possibility for some.\n",
      "\n",
      "* **Other Less Common Theories:**  Other less prevalent theories involve exotic materials or natural processes not yet fully understood.\n",
      "\n",
      "**IV. Scientific Challenges and Limitations**\n",
      "\n",
      "Studying 'Oumuamua presented significant challenges:\n",
      "\n",
      "* **Distance and Observational Limitations:**  The object's distance and rapid movement limited the time available for observation and the quality of data collected.  Its small size and dark surface made it challenging to detect and characterize.\n",
      "\n",
      "* **Data Scarcity:**  The short observation window resulted in a relatively small amount of data, making it difficult to definitively confirm any single hypothesis.\n",
      "\n",
      "* **Technological Limitations:**  Current technology wasn't fully equipped to observe and characterize such a fast-moving, distant, and unusual object optimally.\n",
      "\n",
      "**V. Future Research and Potential Discoveries**\n",
      "\n",
      "The study of 'Oumuamua has underscored the need for improved detection and characterization techniques for interstellar objects.\n",
      "\n",
      "* **Future Missions and Technologies:**  Future missions are being planned to detect and study interstellar objects, potentially involving dedicated telescopes and spacecraft designed to intercept and analyze these objects.\n",
      "\n",
      "* **Implications for the Search for Extraterrestrial Intelligence (SETI):**  While the \"alien megastructure\" hypothesis remains highly speculative, 'Oumuamua's existence highlights the potential for discovering extraterrestrial technology.  It underscores the importance of continued SETI research and the need to remain open-minded about the possibilities beyond Earth.\n",
      "\n",
      "* **Understanding Interstellar Objects:**  Studying interstellar objects like 'Oumuamua is crucial for understanding the formation and evolution of planetary systems beyond our own, providing invaluable insights into the processes that shaped our solar system and the universe as a whole.\n",
      "\n",
      "\n",
      "**VI. Conclusion**\n",
      "\n",
      "'Oumuamua remains an enigma, a testament to the vastness and mystery of the cosmos.  While the data collected provided valuable information, it wasn't sufficient to definitively determine its nature.  The competing hypotheses – from a naturally occurring comet or asteroid to a more exotic, potentially artificial origin – highlight the limitations of our current understanding and the need for further research.  The discovery of 'Oumuamua has opened a new chapter in astronomy, prompting the development of new technologies and strategies for detecting and characterizing interstellar objects, potentially revealing even more astonishing discoveries in the years to come.  The unanswered questions surrounding 'Oumuamua serve as a powerful reminder of how much we still have to learn about the universe and the possibilities that lie beyond our solar system.\n",
      "\n",
      "\n",
      "**VII. Call to action:**  What are your thoughts on the mystery of 'Oumuamua? Share your opinions and theories in the comments below!  Learn more about interstellar objects by visiting [link to relevant resource].\n"
     ]
    }
   ],
   "source": [
    "print(final_state['content'])"
   ]
  },
  {
   "cell_type": "code",
   "execution_count": null,
   "id": "58222824",
   "metadata": {},
   "outputs": [],
   "source": []
  },
  {
   "cell_type": "code",
   "execution_count": null,
   "id": "2b7d005f",
   "metadata": {},
   "outputs": [],
   "source": []
  }
 ],
 "metadata": {
  "kernelspec": {
   "display_name": "llmvenv",
   "language": "python",
   "name": "python3"
  },
  "language_info": {
   "codemirror_mode": {
    "name": "ipython",
    "version": 3
   },
   "file_extension": ".py",
   "mimetype": "text/x-python",
   "name": "python",
   "nbconvert_exporter": "python",
   "pygments_lexer": "ipython3",
   "version": "3.12.3"
  }
 },
 "nbformat": 4,
 "nbformat_minor": 5
}
